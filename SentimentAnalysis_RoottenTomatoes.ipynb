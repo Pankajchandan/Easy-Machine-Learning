{
 "cells": [
  {
   "cell_type": "code",
   "execution_count": 26,
   "metadata": {},
   "outputs": [
    {
     "data": {
      "text/plain": [
       "'/home/pankaj/git/My-Machine-Learning-Rep'"
      ]
     },
     "execution_count": 26,
     "metadata": {},
     "output_type": "execute_result"
    }
   ],
   "source": [
    "import graphlab\n",
    "import os\n",
    "os.getcwd()"
   ]
  },
  {
   "cell_type": "code",
   "execution_count": 27,
   "metadata": {},
   "outputs": [
    {
     "data": {
      "text/html": [
       "<pre>Finished parsing file /home/pankaj/git/My-Machine-Learning-Rep/train_SA.tsv</pre>"
      ],
      "text/plain": [
       "Finished parsing file /home/pankaj/git/My-Machine-Learning-Rep/train_SA.tsv"
      ]
     },
     "metadata": {},
     "output_type": "display_data"
    },
    {
     "data": {
      "text/html": [
       "<pre>Parsing completed. Parsed 100 lines in 0.413765 secs.</pre>"
      ],
      "text/plain": [
       "Parsing completed. Parsed 100 lines in 0.413765 secs."
      ]
     },
     "metadata": {},
     "output_type": "display_data"
    },
    {
     "name": "stdout",
     "output_type": "stream",
     "text": [
      "------------------------------------------------------\n",
      "Inferred types from first 100 line(s) of file as \n",
      "column_type_hints=[int,int,str,int]\n",
      "If parsing fails due to incorrect types, you can correct\n",
      "the inferred type list above and pass it to read_csv in\n",
      "the column_type_hints argument\n",
      "------------------------------------------------------\n"
     ]
    },
    {
     "data": {
      "text/html": [
       "<pre>Finished parsing file /home/pankaj/git/My-Machine-Learning-Rep/train_SA.tsv</pre>"
      ],
      "text/plain": [
       "Finished parsing file /home/pankaj/git/My-Machine-Learning-Rep/train_SA.tsv"
      ]
     },
     "metadata": {},
     "output_type": "display_data"
    },
    {
     "data": {
      "text/html": [
       "<pre>Parsing completed. Parsed 156060 lines in 0.300206 secs.</pre>"
      ],
      "text/plain": [
       "Parsing completed. Parsed 156060 lines in 0.300206 secs."
      ]
     },
     "metadata": {},
     "output_type": "display_data"
    }
   ],
   "source": [
    "sf_train=graphlab.SFrame('train_SA.tsv')"
   ]
  },
  {
   "cell_type": "code",
   "execution_count": 28,
   "metadata": {},
   "outputs": [
    {
     "data": {
      "text/plain": [
       "<bound method SFrame.head of Columns:\n",
       "\tPhraseId\tint\n",
       "\tSentenceId\tint\n",
       "\tPhrase\tstr\n",
       "\tSentiment\tint\n",
       "\n",
       "Rows: 156060\n",
       "\n",
       "Data:\n",
       "+----------+------------+-------------------------------+-----------+\n",
       "| PhraseId | SentenceId |             Phrase            | Sentiment |\n",
       "+----------+------------+-------------------------------+-----------+\n",
       "|    1     |     1      | A series of escapades demo... |     1     |\n",
       "|    2     |     1      | A series of escapades demo... |     2     |\n",
       "|    3     |     1      |            A series           |     2     |\n",
       "|    4     |     1      |               A               |     2     |\n",
       "|    5     |     1      |             series            |     2     |\n",
       "|    6     |     1      | of escapades demonstrating... |     2     |\n",
       "|    7     |     1      |               of              |     2     |\n",
       "|    8     |     1      | escapades demonstrating th... |     2     |\n",
       "|    9     |     1      |           escapades           |     2     |\n",
       "|    10    |     1      | demonstrating the adage th... |     2     |\n",
       "+----------+------------+-------------------------------+-----------+\n",
       "[156060 rows x 4 columns]\n",
       "Note: Only the head of the SFrame is printed.\n",
       "You can use print_rows(num_rows=m, num_columns=n) to print more rows and columns.>"
      ]
     },
     "execution_count": 28,
     "metadata": {},
     "output_type": "execute_result"
    }
   ],
   "source": [
    "sf_train.head"
   ]
  },
  {
   "cell_type": "code",
   "execution_count": 29,
   "metadata": {},
   "outputs": [
    {
     "data": {
      "text/html": [
       "<pre>Finished parsing file /home/pankaj/git/My-Machine-Learning-Rep/test_SA.tsv</pre>"
      ],
      "text/plain": [
       "Finished parsing file /home/pankaj/git/My-Machine-Learning-Rep/test_SA.tsv"
      ]
     },
     "metadata": {},
     "output_type": "display_data"
    },
    {
     "data": {
      "text/html": [
       "<pre>Parsing completed. Parsed 100 lines in 0.175653 secs.</pre>"
      ],
      "text/plain": [
       "Parsing completed. Parsed 100 lines in 0.175653 secs."
      ]
     },
     "metadata": {},
     "output_type": "display_data"
    },
    {
     "name": "stdout",
     "output_type": "stream",
     "text": [
      "------------------------------------------------------\n",
      "Inferred types from first 100 line(s) of file as \n",
      "column_type_hints=[int,int,str]\n",
      "If parsing fails due to incorrect types, you can correct\n",
      "the inferred type list above and pass it to read_csv in\n",
      "the column_type_hints argument\n",
      "------------------------------------------------------\n"
     ]
    },
    {
     "data": {
      "text/html": [
       "<pre>Finished parsing file /home/pankaj/git/My-Machine-Learning-Rep/test_SA.tsv</pre>"
      ],
      "text/plain": [
       "Finished parsing file /home/pankaj/git/My-Machine-Learning-Rep/test_SA.tsv"
      ]
     },
     "metadata": {},
     "output_type": "display_data"
    },
    {
     "data": {
      "text/html": [
       "<pre>Parsing completed. Parsed 66292 lines in 0.131523 secs.</pre>"
      ],
      "text/plain": [
       "Parsing completed. Parsed 66292 lines in 0.131523 secs."
      ]
     },
     "metadata": {},
     "output_type": "display_data"
    }
   ],
   "source": [
    "sf_test=graphlab.SFrame('test_SA.tsv')"
   ]
  },
  {
   "cell_type": "code",
   "execution_count": 30,
   "metadata": {},
   "outputs": [
    {
     "data": {
      "text/plain": [
       "<bound method SFrame.head of Columns:\n",
       "\tPhraseId\tint\n",
       "\tSentenceId\tint\n",
       "\tPhrase\tstr\n",
       "\n",
       "Rows: 66292\n",
       "\n",
       "Data:\n",
       "+----------+------------+-------------------------------+\n",
       "| PhraseId | SentenceId |             Phrase            |\n",
       "+----------+------------+-------------------------------+\n",
       "|  156061  |    8545    | An intermittently pleasing... |\n",
       "|  156062  |    8545    | An intermittently pleasing... |\n",
       "|  156063  |    8545    |               An              |\n",
       "|  156064  |    8545    | intermittently pleasing bu... |\n",
       "|  156065  |    8545    | intermittently pleasing bu... |\n",
       "|  156066  |    8545    |  intermittently pleasing but  |\n",
       "|  156067  |    8545    |    intermittently pleasing    |\n",
       "|  156068  |    8545    |         intermittently        |\n",
       "|  156069  |    8545    |            pleasing           |\n",
       "|  156070  |    8545    |              but              |\n",
       "+----------+------------+-------------------------------+\n",
       "[66292 rows x 3 columns]\n",
       "Note: Only the head of the SFrame is printed.\n",
       "You can use print_rows(num_rows=m, num_columns=n) to print more rows and columns.>"
      ]
     },
     "execution_count": 30,
     "metadata": {},
     "output_type": "execute_result"
    }
   ],
   "source": [
    "sf_test.head"
   ]
  },
  {
   "cell_type": "code",
   "execution_count": 31,
   "metadata": {},
   "outputs": [
    {
     "data": {
      "text/html": [
       "<div style=\"max-height:1000px;max-width:1500px;overflow:auto;\"><table frame=\"box\" rules=\"cols\">\n",
       "    <tr>\n",
       "        <th style=\"padding-left: 1em; padding-right: 1em; text-align: center\">PhraseId</th>\n",
       "        <th style=\"padding-left: 1em; padding-right: 1em; text-align: center\">SentenceId</th>\n",
       "        <th style=\"padding-left: 1em; padding-right: 1em; text-align: center\">Phrase</th>\n",
       "        <th style=\"padding-left: 1em; padding-right: 1em; text-align: center\">Sentiment</th>\n",
       "        <th style=\"padding-left: 1em; padding-right: 1em; text-align: center\">target</th>\n",
       "    </tr>\n",
       "    <tr>\n",
       "        <td style=\"padding-left: 1em; padding-right: 1em; text-align: center; vertical-align: top\">112</td>\n",
       "        <td style=\"padding-left: 1em; padding-right: 1em; text-align: center; vertical-align: top\">3</td>\n",
       "        <td style=\"padding-left: 1em; padding-right: 1em; text-align: center; vertical-align: top\">sitting</td>\n",
       "        <td style=\"padding-left: 1em; padding-right: 1em; text-align: center; vertical-align: top\">2</td>\n",
       "        <td style=\"padding-left: 1em; padding-right: 1em; text-align: center; vertical-align: top\">0</td>\n",
       "    </tr>\n",
       "    <tr>\n",
       "        <td style=\"padding-left: 1em; padding-right: 1em; text-align: center; vertical-align: top\">113</td>\n",
       "        <td style=\"padding-left: 1em; padding-right: 1em; text-align: center; vertical-align: top\">3</td>\n",
       "        <td style=\"padding-left: 1em; padding-right: 1em; text-align: center; vertical-align: top\">through this one</td>\n",
       "        <td style=\"padding-left: 1em; padding-right: 1em; text-align: center; vertical-align: top\">2</td>\n",
       "        <td style=\"padding-left: 1em; padding-right: 1em; text-align: center; vertical-align: top\">0</td>\n",
       "    </tr>\n",
       "    <tr>\n",
       "        <td style=\"padding-left: 1em; padding-right: 1em; text-align: center; vertical-align: top\">114</td>\n",
       "        <td style=\"padding-left: 1em; padding-right: 1em; text-align: center; vertical-align: top\">3</td>\n",
       "        <td style=\"padding-left: 1em; padding-right: 1em; text-align: center; vertical-align: top\">through</td>\n",
       "        <td style=\"padding-left: 1em; padding-right: 1em; text-align: center; vertical-align: top\">2</td>\n",
       "        <td style=\"padding-left: 1em; padding-right: 1em; text-align: center; vertical-align: top\">0</td>\n",
       "    </tr>\n",
       "    <tr>\n",
       "        <td style=\"padding-left: 1em; padding-right: 1em; text-align: center; vertical-align: top\">115</td>\n",
       "        <td style=\"padding-left: 1em; padding-right: 1em; text-align: center; vertical-align: top\">3</td>\n",
       "        <td style=\"padding-left: 1em; padding-right: 1em; text-align: center; vertical-align: top\">this one</td>\n",
       "        <td style=\"padding-left: 1em; padding-right: 1em; text-align: center; vertical-align: top\">2</td>\n",
       "        <td style=\"padding-left: 1em; padding-right: 1em; text-align: center; vertical-align: top\">0</td>\n",
       "    </tr>\n",
       "    <tr>\n",
       "        <td style=\"padding-left: 1em; padding-right: 1em; text-align: center; vertical-align: top\">116</td>\n",
       "        <td style=\"padding-left: 1em; padding-right: 1em; text-align: center; vertical-align: top\">3</td>\n",
       "        <td style=\"padding-left: 1em; padding-right: 1em; text-align: center; vertical-align: top\">one</td>\n",
       "        <td style=\"padding-left: 1em; padding-right: 1em; text-align: center; vertical-align: top\">2</td>\n",
       "        <td style=\"padding-left: 1em; padding-right: 1em; text-align: center; vertical-align: top\">0</td>\n",
       "    </tr>\n",
       "    <tr>\n",
       "        <td style=\"padding-left: 1em; padding-right: 1em; text-align: center; vertical-align: top\">117</td>\n",
       "        <td style=\"padding-left: 1em; padding-right: 1em; text-align: center; vertical-align: top\">4</td>\n",
       "        <td style=\"padding-left: 1em; padding-right: 1em; text-align: center; vertical-align: top\">A positively thrilling<br>combination of ...</td>\n",
       "        <td style=\"padding-left: 1em; padding-right: 1em; text-align: center; vertical-align: top\">3</td>\n",
       "        <td style=\"padding-left: 1em; padding-right: 1em; text-align: center; vertical-align: top\">0</td>\n",
       "    </tr>\n",
       "    <tr>\n",
       "        <td style=\"padding-left: 1em; padding-right: 1em; text-align: center; vertical-align: top\">118</td>\n",
       "        <td style=\"padding-left: 1em; padding-right: 1em; text-align: center; vertical-align: top\">4</td>\n",
       "        <td style=\"padding-left: 1em; padding-right: 1em; text-align: center; vertical-align: top\">A positively thrilling<br>combination of ...</td>\n",
       "        <td style=\"padding-left: 1em; padding-right: 1em; text-align: center; vertical-align: top\">4</td>\n",
       "        <td style=\"padding-left: 1em; padding-right: 1em; text-align: center; vertical-align: top\">1</td>\n",
       "    </tr>\n",
       "    <tr>\n",
       "        <td style=\"padding-left: 1em; padding-right: 1em; text-align: center; vertical-align: top\">119</td>\n",
       "        <td style=\"padding-left: 1em; padding-right: 1em; text-align: center; vertical-align: top\">4</td>\n",
       "        <td style=\"padding-left: 1em; padding-right: 1em; text-align: center; vertical-align: top\">A positively thrilling<br>combination of ...</td>\n",
       "        <td style=\"padding-left: 1em; padding-right: 1em; text-align: center; vertical-align: top\">4</td>\n",
       "        <td style=\"padding-left: 1em; padding-right: 1em; text-align: center; vertical-align: top\">1</td>\n",
       "    </tr>\n",
       "    <tr>\n",
       "        <td style=\"padding-left: 1em; padding-right: 1em; text-align: center; vertical-align: top\">120</td>\n",
       "        <td style=\"padding-left: 1em; padding-right: 1em; text-align: center; vertical-align: top\">4</td>\n",
       "        <td style=\"padding-left: 1em; padding-right: 1em; text-align: center; vertical-align: top\">A positively thrilling<br>combination ...</td>\n",
       "        <td style=\"padding-left: 1em; padding-right: 1em; text-align: center; vertical-align: top\">3</td>\n",
       "        <td style=\"padding-left: 1em; padding-right: 1em; text-align: center; vertical-align: top\">0</td>\n",
       "    </tr>\n",
       "    <tr>\n",
       "        <td style=\"padding-left: 1em; padding-right: 1em; text-align: center; vertical-align: top\">121</td>\n",
       "        <td style=\"padding-left: 1em; padding-right: 1em; text-align: center; vertical-align: top\">4</td>\n",
       "        <td style=\"padding-left: 1em; padding-right: 1em; text-align: center; vertical-align: top\">positively thrilling<br>combination ...</td>\n",
       "        <td style=\"padding-left: 1em; padding-right: 1em; text-align: center; vertical-align: top\">3</td>\n",
       "        <td style=\"padding-left: 1em; padding-right: 1em; text-align: center; vertical-align: top\">0</td>\n",
       "    </tr>\n",
       "</table>\n",
       "[79 rows x 5 columns]<br/>Note: Only the head of the SFrame is printed.<br/>You can use print_rows(num_rows=m, num_columns=n) to print more rows and columns.\n",
       "</div>"
      ],
      "text/plain": [
       "Columns:\n",
       "\tPhraseId\tint\n",
       "\tSentenceId\tint\n",
       "\tPhrase\tstr\n",
       "\tSentiment\tint\n",
       "\ttarget\tint\n",
       "\n",
       "Rows: 79\n",
       "\n",
       "Data:\n",
       "+----------+------------+-------------------------------+-----------+--------+\n",
       "| PhraseId | SentenceId |             Phrase            | Sentiment | target |\n",
       "+----------+------------+-------------------------------+-----------+--------+\n",
       "|   112    |     3      |            sitting            |     2     |   0    |\n",
       "|   113    |     3      |        through this one       |     2     |   0    |\n",
       "|   114    |     3      |            through            |     2     |   0    |\n",
       "|   115    |     3      |            this one           |     2     |   0    |\n",
       "|   116    |     3      |              one              |     2     |   0    |\n",
       "|   117    |     4      | A positively thrilling com... |     3     |   0    |\n",
       "|   118    |     4      | A positively thrilling com... |     4     |   1    |\n",
       "|   119    |     4      | A positively thrilling com... |     4     |   1    |\n",
       "|   120    |     4      | A positively thrilling com... |     3     |   0    |\n",
       "|   121    |     4      | positively thrilling combi... |     3     |   0    |\n",
       "+----------+------------+-------------------------------+-----------+--------+\n",
       "[79 rows x 5 columns]\n",
       "Note: Only the head of the SFrame is printed.\n",
       "You can use print_rows(num_rows=m, num_columns=n) to print more rows and columns."
      ]
     },
     "execution_count": 31,
     "metadata": {},
     "output_type": "execute_result"
    }
   ],
   "source": [
    "##Let's convert sentiment into a two class flag variable.\n",
    "convert = lambda x:1 if x>3 else 0\n",
    "sf_train['target'] = sf_train['Sentiment'].apply(convert)\n",
    "sf_train[111:190]"
   ]
  },
  {
   "cell_type": "code",
   "execution_count": 32,
   "metadata": {
    "collapsed": true
   },
   "outputs": [],
   "source": [
    "sf_train['word_count'] = graphlab.text_analytics.count_words(sf_train['Phrase'])\n",
    "train,test = sf_train.random_split(0.6,seed=0)"
   ]
  },
  {
   "cell_type": "code",
   "execution_count": 33,
   "metadata": {},
   "outputs": [
    {
     "data": {
      "text/plain": [
       "<bound method SFrame.head of Columns:\n",
       "\tPhraseId\tint\n",
       "\tSentenceId\tint\n",
       "\tPhrase\tstr\n",
       "\tSentiment\tint\n",
       "\ttarget\tint\n",
       "\tword_count\tdict\n",
       "\n",
       "Rows: 156060\n",
       "\n",
       "Data:\n",
       "+----------+------------+-------------------------------+-----------+--------+\n",
       "| PhraseId | SentenceId |             Phrase            | Sentiment | target |\n",
       "+----------+------------+-------------------------------+-----------+--------+\n",
       "|    1     |     1      | A series of escapades demo... |     1     |   0    |\n",
       "|    2     |     1      | A series of escapades demo... |     2     |   0    |\n",
       "|    3     |     1      |            A series           |     2     |   0    |\n",
       "|    4     |     1      |               A               |     2     |   0    |\n",
       "|    5     |     1      |             series            |     2     |   0    |\n",
       "|    6     |     1      | of escapades demonstrating... |     2     |   0    |\n",
       "|    7     |     1      |               of              |     2     |   0    |\n",
       "|    8     |     1      | escapades demonstrating th... |     2     |   0    |\n",
       "|    9     |     1      |           escapades           |     2     |   0    |\n",
       "|    10    |     1      | demonstrating the adage th... |     2     |   0    |\n",
       "+----------+------------+-------------------------------+-----------+--------+\n",
       "+-------------------------------+\n",
       "|           word_count          |\n",
       "+-------------------------------+\n",
       "| {'what': 1, 'series': 1, '... |\n",
       "| {'a': 1, 'what': 1, 'good'... |\n",
       "|     {'a': 1, 'series': 1}     |\n",
       "|            {'a': 1}           |\n",
       "|         {'series': 1}         |\n",
       "| {'what': 1, 'good': 1, 'fo... |\n",
       "|           {'of': 1}           |\n",
       "| {'what': 1, 'good': 1, 'es... |\n",
       "|        {'escapades': 1}       |\n",
       "| {'what': 1, 'good': 1, 'fo... |\n",
       "+-------------------------------+\n",
       "[156060 rows x 6 columns]\n",
       "Note: Only the head of the SFrame is printed.\n",
       "You can use print_rows(num_rows=m, num_columns=n) to print more rows and columns.>"
      ]
     },
     "execution_count": 33,
     "metadata": {},
     "output_type": "execute_result"
    }
   ],
   "source": [
    "sf_train.head"
   ]
  },
  {
   "cell_type": "code",
   "execution_count": 39,
   "metadata": {},
   "outputs": [
    {
     "name": "stdout",
     "output_type": "stream",
     "text": [
      "PROGRESS: Creating a validation set from 5 percent of training data. This may take a while.\n",
      "          You can set ``validation_set=None`` to disable validation tracking.\n",
      "\n"
     ]
    },
    {
     "data": {
      "text/html": [
       "<pre>Logistic regression:</pre>"
      ],
      "text/plain": [
       "Logistic regression:"
      ]
     },
     "metadata": {},
     "output_type": "display_data"
    },
    {
     "data": {
      "text/html": [
       "<pre>--------------------------------------------------------</pre>"
      ],
      "text/plain": [
       "--------------------------------------------------------"
      ]
     },
     "metadata": {},
     "output_type": "display_data"
    },
    {
     "data": {
      "text/html": [
       "<pre>Number of examples          : 88905</pre>"
      ],
      "text/plain": [
       "Number of examples          : 88905"
      ]
     },
     "metadata": {},
     "output_type": "display_data"
    },
    {
     "data": {
      "text/html": [
       "<pre>Number of classes           : 2</pre>"
      ],
      "text/plain": [
       "Number of classes           : 2"
      ]
     },
     "metadata": {},
     "output_type": "display_data"
    },
    {
     "data": {
      "text/html": [
       "<pre>Number of feature columns   : 1</pre>"
      ],
      "text/plain": [
       "Number of feature columns   : 1"
      ]
     },
     "metadata": {},
     "output_type": "display_data"
    },
    {
     "data": {
      "text/html": [
       "<pre>Number of unpacked features : 16455</pre>"
      ],
      "text/plain": [
       "Number of unpacked features : 16455"
      ]
     },
     "metadata": {},
     "output_type": "display_data"
    },
    {
     "data": {
      "text/html": [
       "<pre>Number of coefficients    : 16456</pre>"
      ],
      "text/plain": [
       "Number of coefficients    : 16456"
      ]
     },
     "metadata": {},
     "output_type": "display_data"
    },
    {
     "data": {
      "text/html": [
       "<pre>Starting L-BFGS</pre>"
      ],
      "text/plain": [
       "Starting L-BFGS"
      ]
     },
     "metadata": {},
     "output_type": "display_data"
    },
    {
     "data": {
      "text/html": [
       "<pre>--------------------------------------------------------</pre>"
      ],
      "text/plain": [
       "--------------------------------------------------------"
      ]
     },
     "metadata": {},
     "output_type": "display_data"
    },
    {
     "data": {
      "text/html": [
       "<pre>+-----------+----------+-----------+--------------+-------------------+---------------------+</pre>"
      ],
      "text/plain": [
       "+-----------+----------+-----------+--------------+-------------------+---------------------+"
      ]
     },
     "metadata": {},
     "output_type": "display_data"
    },
    {
     "data": {
      "text/html": [
       "<pre>| Iteration | Passes   | Step size | Elapsed Time | Training-accuracy | Validation-accuracy |</pre>"
      ],
      "text/plain": [
       "| Iteration | Passes   | Step size | Elapsed Time | Training-accuracy | Validation-accuracy |"
      ]
     },
     "metadata": {},
     "output_type": "display_data"
    },
    {
     "data": {
      "text/html": [
       "<pre>+-----------+----------+-----------+--------------+-------------------+---------------------+</pre>"
      ],
      "text/plain": [
       "+-----------+----------+-----------+--------------+-------------------+---------------------+"
      ]
     },
     "metadata": {},
     "output_type": "display_data"
    },
    {
     "data": {
      "text/html": [
       "<pre>| 1         | 3        | 0.000011  | 1.228800     | 0.940150          | 0.946010            |</pre>"
      ],
      "text/plain": [
       "| 1         | 3        | 0.000011  | 1.228800     | 0.940150          | 0.946010            |"
      ]
     },
     "metadata": {},
     "output_type": "display_data"
    },
    {
     "data": {
      "text/html": [
       "<pre>| 2         | 6        | 5.000000  | 1.517831     | 0.940251          | 0.919558            |</pre>"
      ],
      "text/plain": [
       "| 2         | 6        | 5.000000  | 1.517831     | 0.940251          | 0.919558            |"
      ]
     },
     "metadata": {},
     "output_type": "display_data"
    },
    {
     "data": {
      "text/html": [
       "<pre>| 3         | 7        | 5.000000  | 1.656674     | 0.947483          | 0.921292            |</pre>"
      ],
      "text/plain": [
       "| 3         | 7        | 5.000000  | 1.656674     | 0.947483          | 0.921292            |"
      ]
     },
     "metadata": {},
     "output_type": "display_data"
    },
    {
     "data": {
      "text/html": [
       "<pre>| 4         | 8        | 5.000000  | 1.795560     | 0.941679          | 0.935603            |</pre>"
      ],
      "text/plain": [
       "| 4         | 8        | 5.000000  | 1.795560     | 0.941679          | 0.935603            |"
      ]
     },
     "metadata": {},
     "output_type": "display_data"
    },
    {
     "data": {
      "text/html": [
       "<pre>| 5         | 10       | 1.000000  | 1.986784     | 0.950633          | 0.931266            |</pre>"
      ],
      "text/plain": [
       "| 5         | 10       | 1.000000  | 1.986784     | 0.950633          | 0.931266            |"
      ]
     },
     "metadata": {},
     "output_type": "display_data"
    },
    {
     "data": {
      "text/html": [
       "<pre>| 6         | 11       | 1.000000  | 2.132214     | 0.915933          | 0.880746            |</pre>"
      ],
      "text/plain": [
       "| 6         | 11       | 1.000000  | 2.132214     | 0.915933          | 0.880746            |"
      ]
     },
     "metadata": {},
     "output_type": "display_data"
    },
    {
     "data": {
      "text/html": [
       "<pre>| 10        | 17       | 1.000000  | 2.820358     | 0.963568          | 0.937337            |</pre>"
      ],
      "text/plain": [
       "| 10        | 17       | 1.000000  | 2.820358     | 0.963568          | 0.937337            |"
      ]
     },
     "metadata": {},
     "output_type": "display_data"
    },
    {
     "data": {
      "text/html": [
       "<pre>+-----------+----------+-----------+--------------+-------------------+---------------------+</pre>"
      ],
      "text/plain": [
       "+-----------+----------+-----------+--------------+-------------------+---------------------+"
      ]
     },
     "metadata": {},
     "output_type": "display_data"
    },
    {
     "data": {
      "text/html": [
       "<pre>TERMINATED: Iteration limit reached.</pre>"
      ],
      "text/plain": [
       "TERMINATED: Iteration limit reached."
      ]
     },
     "metadata": {},
     "output_type": "display_data"
    },
    {
     "data": {
      "text/html": [
       "<pre>This model may not be optimal. To improve it, consider increasing `max_iterations`.</pre>"
      ],
      "text/plain": [
       "This model may not be optimal. To improve it, consider increasing `max_iterations`."
      ]
     },
     "metadata": {},
     "output_type": "display_data"
    }
   ],
   "source": [
    "basic_model = graphlab.logistic_classifier.create(train,target='target',features = ['word_count'])"
   ]
  },
  {
   "cell_type": "code",
   "execution_count": 40,
   "metadata": {},
   "outputs": [
    {
     "data": {
      "text/plain": [
       "{'accuracy': 0.9401531746158643,\n",
       " 'auc': 0.8291166858660718,\n",
       " 'confusion_matrix': Columns:\n",
       " \ttarget_label\tint\n",
       " \tpredicted_label\tint\n",
       " \tcount\tint\n",
       " \n",
       " Rows: 4\n",
       " \n",
       " Data:\n",
       " +--------------+-----------------+-------+\n",
       " | target_label | predicted_label | count |\n",
       " +--------------+-----------------+-------+\n",
       " |      0       |        1        |  1572 |\n",
       " |      1       |        0        |  2171 |\n",
       " |      1       |        1        |  1460 |\n",
       " |      0       |        0        | 57340 |\n",
       " +--------------+-----------------+-------+\n",
       " [4 rows x 3 columns],\n",
       " 'f1_score': 0.43824103256791236,\n",
       " 'log_loss': 0.24582127647791793,\n",
       " 'precision': 0.4815303430079156,\n",
       " 'recall': 0.4020930873037731,\n",
       " 'roc_curve': Columns:\n",
       " \tthreshold\tfloat\n",
       " \tfpr\tfloat\n",
       " \ttpr\tfloat\n",
       " \tp\tint\n",
       " \tn\tint\n",
       " \n",
       " Rows: 100001\n",
       " \n",
       " Data:\n",
       " +-----------+----------------+----------------+------+-------+\n",
       " | threshold |      fpr       |      tpr       |  p   |   n   |\n",
       " +-----------+----------------+----------------+------+-------+\n",
       " |    0.0    |      1.0       |      1.0       | 3631 | 58912 |\n",
       " |   1e-05   | 0.894826181423 | 0.963646378408 | 3631 | 58912 |\n",
       " |   2e-05   | 0.873064910375 | 0.958138253925 | 3631 | 58912 |\n",
       " |   3e-05   | 0.858280146659 | 0.95455797301  | 3631 | 58912 |\n",
       " |   4e-05   | 0.847501357958 | 0.952079316993 | 3631 | 58912 |\n",
       " |   5e-05   | 0.838216322651 | 0.948774442302 | 3631 | 58912 |\n",
       " |   6e-05   | 0.829864883216 | 0.947672817406 | 3631 | 58912 |\n",
       " |   7e-05   | 0.822854426942 | 0.945194161388 | 3631 | 58912 |\n",
       " |   8e-05   | 0.815029196089 | 0.943541724043 | 3631 | 58912 |\n",
       " |   9e-05   | 0.808714693102 | 0.942164692922 | 3631 | 58912 |\n",
       " +-----------+----------------+----------------+------+-------+\n",
       " [100001 rows x 5 columns]\n",
       " Note: Only the head of the SFrame is printed.\n",
       " You can use print_rows(num_rows=m, num_columns=n) to print more rows and columns.}"
      ]
     },
     "execution_count": 40,
     "metadata": {},
     "output_type": "execute_result"
    }
   ],
   "source": [
    "basic_model.evaluate(test)"
   ]
  },
  {
   "cell_type": "code",
   "execution_count": 41,
   "metadata": {},
   "outputs": [
    {
     "name": "stdout",
     "output_type": "stream",
     "text": [
      "PROGRESS: Creating a validation set from 5 percent of training data. This may take a while.\n",
      "          You can set ``validation_set=None`` to disable validation tracking.\n",
      "\n"
     ]
    },
    {
     "data": {
      "text/html": [
       "<pre>Random forest classifier:</pre>"
      ],
      "text/plain": [
       "Random forest classifier:"
      ]
     },
     "metadata": {},
     "output_type": "display_data"
    },
    {
     "data": {
      "text/html": [
       "<pre>--------------------------------------------------------</pre>"
      ],
      "text/plain": [
       "--------------------------------------------------------"
      ]
     },
     "metadata": {},
     "output_type": "display_data"
    },
    {
     "data": {
      "text/html": [
       "<pre>Number of examples          : 88855</pre>"
      ],
      "text/plain": [
       "Number of examples          : 88855"
      ]
     },
     "metadata": {},
     "output_type": "display_data"
    },
    {
     "data": {
      "text/html": [
       "<pre>Number of classes           : 2</pre>"
      ],
      "text/plain": [
       "Number of classes           : 2"
      ]
     },
     "metadata": {},
     "output_type": "display_data"
    },
    {
     "data": {
      "text/html": [
       "<pre>Number of feature columns   : 1</pre>"
      ],
      "text/plain": [
       "Number of feature columns   : 1"
      ]
     },
     "metadata": {},
     "output_type": "display_data"
    },
    {
     "data": {
      "text/html": [
       "<pre>Number of unpacked features : 16458</pre>"
      ],
      "text/plain": [
       "Number of unpacked features : 16458"
      ]
     },
     "metadata": {},
     "output_type": "display_data"
    },
    {
     "data": {
      "text/html": [
       "<pre>+-----------+--------------+-------------------+---------------------+-------------------+---------------------+</pre>"
      ],
      "text/plain": [
       "+-----------+--------------+-------------------+---------------------+-------------------+---------------------+"
      ]
     },
     "metadata": {},
     "output_type": "display_data"
    },
    {
     "data": {
      "text/html": [
       "<pre>| Iteration | Elapsed Time | Training-accuracy | Validation-accuracy | Training-log_loss | Validation-log_loss |</pre>"
      ],
      "text/plain": [
       "| Iteration | Elapsed Time | Training-accuracy | Validation-accuracy | Training-log_loss | Validation-log_loss |"
      ]
     },
     "metadata": {},
     "output_type": "display_data"
    },
    {
     "data": {
      "text/html": [
       "<pre>+-----------+--------------+-------------------+---------------------+-------------------+---------------------+</pre>"
      ],
      "text/plain": [
       "+-----------+--------------+-------------------+---------------------+-------------------+---------------------+"
      ]
     },
     "metadata": {},
     "output_type": "display_data"
    },
    {
     "data": {
      "text/html": [
       "<pre>| 1         | 0.100528     | 0.941939          | 0.948520            | 0.255267          | 0.244241            |</pre>"
      ],
      "text/plain": [
       "| 1         | 0.100528     | 0.941939          | 0.948520            | 0.255267          | 0.244241            |"
      ]
     },
     "metadata": {},
     "output_type": "display_data"
    },
    {
     "data": {
      "text/html": [
       "<pre>| 2         | 0.190974     | 0.941680          | 0.948091            | 0.253961          | 0.244059            |</pre>"
      ],
      "text/plain": [
       "| 2         | 0.190974     | 0.941680          | 0.948091            | 0.253961          | 0.244059            |"
      ]
     },
     "metadata": {},
     "output_type": "display_data"
    },
    {
     "data": {
      "text/html": [
       "<pre>| 3         | 0.281186     | 0.942097          | 0.948091            | 0.253455          | 0.243937            |</pre>"
      ],
      "text/plain": [
       "| 3         | 0.281186     | 0.942097          | 0.948091            | 0.253455          | 0.243937            |"
      ]
     },
     "metadata": {},
     "output_type": "display_data"
    },
    {
     "data": {
      "text/html": [
       "<pre>| 4         | 0.371279     | 0.941523          | 0.948305            | 0.253457          | 0.243919            |</pre>"
      ],
      "text/plain": [
       "| 4         | 0.371279     | 0.941523          | 0.948305            | 0.253457          | 0.243919            |"
      ]
     },
     "metadata": {},
     "output_type": "display_data"
    },
    {
     "data": {
      "text/html": [
       "<pre>| 5         | 0.464972     | 0.941489          | 0.948305            | 0.253547          | 0.243908            |</pre>"
      ],
      "text/plain": [
       "| 5         | 0.464972     | 0.941489          | 0.948305            | 0.253547          | 0.243908            |"
      ]
     },
     "metadata": {},
     "output_type": "display_data"
    },
    {
     "data": {
      "text/html": [
       "<pre>| 6         | 0.550035     | 0.941489          | 0.948305            | 0.253506          | 0.244044            |</pre>"
      ],
      "text/plain": [
       "| 6         | 0.550035     | 0.941489          | 0.948305            | 0.253506          | 0.244044            |"
      ]
     },
     "metadata": {},
     "output_type": "display_data"
    },
    {
     "data": {
      "text/html": [
       "<pre>+-----------+--------------+-------------------+---------------------+-------------------+---------------------+</pre>"
      ],
      "text/plain": [
       "+-----------+--------------+-------------------+---------------------+-------------------+---------------------+"
      ]
     },
     "metadata": {},
     "output_type": "display_data"
    }
   ],
   "source": [
    "random_forest_1 = graphlab.random_forest_classifier.create(train, target='target',features = ['word_count'])"
   ]
  },
  {
   "cell_type": "code",
   "execution_count": 42,
   "metadata": {},
   "outputs": [
    {
     "name": "stdout",
     "output_type": "stream",
     "text": [
      "PROGRESS: Creating a validation set from 5 percent of training data. This may take a while.\n",
      "          You can set ``validation_set=None`` to disable validation tracking.\n",
      "\n"
     ]
    },
    {
     "data": {
      "text/html": [
       "<pre>Boosted trees classifier:</pre>"
      ],
      "text/plain": [
       "Boosted trees classifier:"
      ]
     },
     "metadata": {},
     "output_type": "display_data"
    },
    {
     "data": {
      "text/html": [
       "<pre>--------------------------------------------------------</pre>"
      ],
      "text/plain": [
       "--------------------------------------------------------"
      ]
     },
     "metadata": {},
     "output_type": "display_data"
    },
    {
     "data": {
      "text/html": [
       "<pre>Number of examples          : 88882</pre>"
      ],
      "text/plain": [
       "Number of examples          : 88882"
      ]
     },
     "metadata": {},
     "output_type": "display_data"
    },
    {
     "data": {
      "text/html": [
       "<pre>Number of classes           : 2</pre>"
      ],
      "text/plain": [
       "Number of classes           : 2"
      ]
     },
     "metadata": {},
     "output_type": "display_data"
    },
    {
     "data": {
      "text/html": [
       "<pre>Number of feature columns   : 1</pre>"
      ],
      "text/plain": [
       "Number of feature columns   : 1"
      ]
     },
     "metadata": {},
     "output_type": "display_data"
    },
    {
     "data": {
      "text/html": [
       "<pre>Number of unpacked features : 16449</pre>"
      ],
      "text/plain": [
       "Number of unpacked features : 16449"
      ]
     },
     "metadata": {},
     "output_type": "display_data"
    },
    {
     "data": {
      "text/html": [
       "<pre>+-----------+--------------+-------------------+---------------------+-------------------+---------------------+</pre>"
      ],
      "text/plain": [
       "+-----------+--------------+-------------------+---------------------+-------------------+---------------------+"
      ]
     },
     "metadata": {},
     "output_type": "display_data"
    },
    {
     "data": {
      "text/html": [
       "<pre>| Iteration | Elapsed Time | Training-accuracy | Validation-accuracy | Training-log_loss | Validation-log_loss |</pre>"
      ],
      "text/plain": [
       "| Iteration | Elapsed Time | Training-accuracy | Validation-accuracy | Training-log_loss | Validation-log_loss |"
      ]
     },
     "metadata": {},
     "output_type": "display_data"
    },
    {
     "data": {
      "text/html": [
       "<pre>+-----------+--------------+-------------------+---------------------+-------------------+---------------------+</pre>"
      ],
      "text/plain": [
       "+-----------+--------------+-------------------+---------------------+-------------------+---------------------+"
      ]
     },
     "metadata": {},
     "output_type": "display_data"
    },
    {
     "data": {
      "text/html": [
       "<pre>| 1         | 0.107132     | 0.942587          | 0.942179            | 0.491039          | 0.491605            |</pre>"
      ],
      "text/plain": [
       "| 1         | 0.107132     | 0.942587          | 0.942179            | 0.491039          | 0.491605            |"
      ]
     },
     "metadata": {},
     "output_type": "display_data"
    },
    {
     "data": {
      "text/html": [
       "<pre>| 2         | 0.207397     | 0.942373          | 0.941748            | 0.380967          | 0.382221            |</pre>"
      ],
      "text/plain": [
       "| 2         | 0.207397     | 0.942373          | 0.941748            | 0.380967          | 0.382221            |"
      ]
     },
     "metadata": {},
     "output_type": "display_data"
    },
    {
     "data": {
      "text/html": [
       "<pre>| 3         | 0.310312     | 0.942261          | 0.941963            | 0.314553          | 0.316417            |</pre>"
      ],
      "text/plain": [
       "| 3         | 0.310312     | 0.942261          | 0.941963            | 0.314553          | 0.316417            |"
      ]
     },
     "metadata": {},
     "output_type": "display_data"
    },
    {
     "data": {
      "text/html": [
       "<pre>| 4         | 0.413975     | 0.942013          | 0.941316            | 0.272297          | 0.275646            |</pre>"
      ],
      "text/plain": [
       "| 4         | 0.413975     | 0.942013          | 0.941316            | 0.272297          | 0.275646            |"
      ]
     },
     "metadata": {},
     "output_type": "display_data"
    },
    {
     "data": {
      "text/html": [
       "<pre>| 5         | 0.516081     | 0.941934          | 0.941532            | 0.244862          | 0.248920            |</pre>"
      ],
      "text/plain": [
       "| 5         | 0.516081     | 0.941934          | 0.941532            | 0.244862          | 0.248920            |"
      ]
     },
     "metadata": {},
     "output_type": "display_data"
    },
    {
     "data": {
      "text/html": [
       "<pre>| 6         | 0.623500     | 0.941923          | 0.941100            | 0.226464          | 0.231063            |</pre>"
      ],
      "text/plain": [
       "| 6         | 0.623500     | 0.941923          | 0.941100            | 0.226464          | 0.231063            |"
      ]
     },
     "metadata": {},
     "output_type": "display_data"
    },
    {
     "data": {
      "text/html": [
       "<pre>| 10        | 0.998254     | 0.942328          | 0.941100            | 0.195392          | 0.204074            |</pre>"
      ],
      "text/plain": [
       "| 10        | 0.998254     | 0.942328          | 0.941100            | 0.195392          | 0.204074            |"
      ]
     },
     "metadata": {},
     "output_type": "display_data"
    },
    {
     "data": {
      "text/html": [
       "<pre>+-----------+--------------+-------------------+---------------------+-------------------+---------------------+</pre>"
      ],
      "text/plain": [
       "+-----------+--------------+-------------------+---------------------+-------------------+---------------------+"
      ]
     },
     "metadata": {},
     "output_type": "display_data"
    }
   ],
   "source": [
    "gbm_1 = graphlab.boosted_trees_classifier.create(train, target='target',features = ['word_count'])"
   ]
  },
  {
   "cell_type": "code",
   "execution_count": 43,
   "metadata": {},
   "outputs": [
    {
     "name": "stdout",
     "output_type": "stream",
     "text": [
      "PROGRESS: Creating a validation set from 5 percent of training data. This may take a while.\n",
      "          You can set ``validation_set=None`` to disable validation tracking.\n",
      "\n"
     ]
    },
    {
     "data": {
      "text/html": [
       "<pre>SVM:</pre>"
      ],
      "text/plain": [
       "SVM:"
      ]
     },
     "metadata": {},
     "output_type": "display_data"
    },
    {
     "data": {
      "text/html": [
       "<pre>--------------------------------------------------------</pre>"
      ],
      "text/plain": [
       "--------------------------------------------------------"
      ]
     },
     "metadata": {},
     "output_type": "display_data"
    },
    {
     "data": {
      "text/html": [
       "<pre>Number of examples          : 88847</pre>"
      ],
      "text/plain": [
       "Number of examples          : 88847"
      ]
     },
     "metadata": {},
     "output_type": "display_data"
    },
    {
     "data": {
      "text/html": [
       "<pre>Number of classes           : 2</pre>"
      ],
      "text/plain": [
       "Number of classes           : 2"
      ]
     },
     "metadata": {},
     "output_type": "display_data"
    },
    {
     "data": {
      "text/html": [
       "<pre>Number of feature columns   : 1</pre>"
      ],
      "text/plain": [
       "Number of feature columns   : 1"
      ]
     },
     "metadata": {},
     "output_type": "display_data"
    },
    {
     "data": {
      "text/html": [
       "<pre>Number of unpacked features : 16456</pre>"
      ],
      "text/plain": [
       "Number of unpacked features : 16456"
      ]
     },
     "metadata": {},
     "output_type": "display_data"
    },
    {
     "data": {
      "text/html": [
       "<pre>Number of coefficients    : 16457</pre>"
      ],
      "text/plain": [
       "Number of coefficients    : 16457"
      ]
     },
     "metadata": {},
     "output_type": "display_data"
    },
    {
     "data": {
      "text/html": [
       "<pre>Starting L-BFGS</pre>"
      ],
      "text/plain": [
       "Starting L-BFGS"
      ]
     },
     "metadata": {},
     "output_type": "display_data"
    },
    {
     "data": {
      "text/html": [
       "<pre>--------------------------------------------------------</pre>"
      ],
      "text/plain": [
       "--------------------------------------------------------"
      ]
     },
     "metadata": {},
     "output_type": "display_data"
    },
    {
     "data": {
      "text/html": [
       "<pre>+-----------+----------+-----------+--------------+-------------------+---------------------+</pre>"
      ],
      "text/plain": [
       "+-----------+----------+-----------+--------------+-------------------+---------------------+"
      ]
     },
     "metadata": {},
     "output_type": "display_data"
    },
    {
     "data": {
      "text/html": [
       "<pre>| Iteration | Passes   | Step size | Elapsed Time | Training-accuracy | Validation-accuracy |</pre>"
      ],
      "text/plain": [
       "| Iteration | Passes   | Step size | Elapsed Time | Training-accuracy | Validation-accuracy |"
      ]
     },
     "metadata": {},
     "output_type": "display_data"
    },
    {
     "data": {
      "text/html": [
       "<pre>+-----------+----------+-----------+--------------+-------------------+---------------------+</pre>"
      ],
      "text/plain": [
       "+-----------+----------+-----------+--------------+-------------------+---------------------+"
      ]
     },
     "metadata": {},
     "output_type": "display_data"
    },
    {
     "data": {
      "text/html": [
       "<pre>| 1         | 3        | 0.000011  | 0.248686     | 0.940459          | 0.940471            |</pre>"
      ],
      "text/plain": [
       "| 1         | 3        | 0.000011  | 0.248686     | 0.940459          | 0.940471            |"
      ]
     },
     "metadata": {},
     "output_type": "display_data"
    },
    {
     "data": {
      "text/html": [
       "<pre>| 2         | 6        | 5.000000  | 0.526807     | 0.934100          | 0.924625            |</pre>"
      ],
      "text/plain": [
       "| 2         | 6        | 5.000000  | 0.526807     | 0.934100          | 0.924625            |"
      ]
     },
     "metadata": {},
     "output_type": "display_data"
    },
    {
     "data": {
      "text/html": [
       "<pre>| 3         | 7        | 5.000000  | 0.666528     | 0.415231          | 0.402141            |</pre>"
      ],
      "text/plain": [
       "| 3         | 7        | 5.000000  | 0.666528     | 0.415231          | 0.402141            |"
      ]
     },
     "metadata": {},
     "output_type": "display_data"
    },
    {
     "data": {
      "text/html": [
       "<pre>| 4         | 9        | 1.000000  | 0.884561     | 0.943802          | 0.928694            |</pre>"
      ],
      "text/plain": [
       "| 4         | 9        | 1.000000  | 0.884561     | 0.943802          | 0.928694            |"
      ]
     },
     "metadata": {},
     "output_type": "display_data"
    },
    {
     "data": {
      "text/html": [
       "<pre>| 5         | 10       | 1.000000  | 1.020301     | 0.950094          | 0.934047            |</pre>"
      ],
      "text/plain": [
       "| 5         | 10       | 1.000000  | 1.020301     | 0.950094          | 0.934047            |"
      ]
     },
     "metadata": {},
     "output_type": "display_data"
    },
    {
     "data": {
      "text/html": [
       "<pre>| 6         | 11       | 1.000000  | 1.155784     | 0.952987          | 0.935974            |</pre>"
      ],
      "text/plain": [
       "| 6         | 11       | 1.000000  | 1.155784     | 0.952987          | 0.935974            |"
      ]
     },
     "metadata": {},
     "output_type": "display_data"
    },
    {
     "data": {
      "text/html": [
       "<pre>| 10        | 15       | 1.000000  | 1.774104     | 0.960685          | 0.940685            |</pre>"
      ],
      "text/plain": [
       "| 10        | 15       | 1.000000  | 1.774104     | 0.960685          | 0.940685            |"
      ]
     },
     "metadata": {},
     "output_type": "display_data"
    },
    {
     "data": {
      "text/html": [
       "<pre>+-----------+----------+-----------+--------------+-------------------+---------------------+</pre>"
      ],
      "text/plain": [
       "+-----------+----------+-----------+--------------+-------------------+---------------------+"
      ]
     },
     "metadata": {},
     "output_type": "display_data"
    },
    {
     "data": {
      "text/html": [
       "<pre>TERMINATED: Iteration limit reached.</pre>"
      ],
      "text/plain": [
       "TERMINATED: Iteration limit reached."
      ]
     },
     "metadata": {},
     "output_type": "display_data"
    },
    {
     "data": {
      "text/html": [
       "<pre>This model may not be optimal. To improve it, consider increasing `max_iterations`.</pre>"
      ],
      "text/plain": [
       "This model may not be optimal. To improve it, consider increasing `max_iterations`."
      ]
     },
     "metadata": {},
     "output_type": "display_data"
    }
   ],
   "source": [
    "svm_1 = graphlab.svm_classifier.create(train, target='target',features = ['word_count'])"
   ]
  },
  {
   "cell_type": "code",
   "execution_count": 45,
   "metadata": {},
   "outputs": [
    {
     "data": {
      "text/plain": [
       "{'accuracy': 0.9424236125545624,\n",
       " 'auc': 0.7068255467434372,\n",
       " 'confusion_matrix': Columns:\n",
       " \ttarget_label\tint\n",
       " \tpredicted_label\tint\n",
       " \tcount\tint\n",
       " \n",
       " Rows: 4\n",
       " \n",
       " Data:\n",
       " +--------------+-----------------+-------+\n",
       " | target_label | predicted_label | count |\n",
       " +--------------+-----------------+-------+\n",
       " |      0       |        1        |   29  |\n",
       " |      0       |        0        | 58883 |\n",
       " |      1       |        1        |   59  |\n",
       " |      1       |        0        |  3572 |\n",
       " +--------------+-----------------+-------+\n",
       " [4 rows x 3 columns],\n",
       " 'f1_score': 0.03172895939768755,\n",
       " 'log_loss': 0.25221850646703325,\n",
       " 'precision': 0.6704545454545454,\n",
       " 'recall': 0.016248967226659323,\n",
       " 'roc_curve': Columns:\n",
       " \tthreshold\tfloat\n",
       " \tfpr\tfloat\n",
       " \ttpr\tfloat\n",
       " \tp\tint\n",
       " \tn\tint\n",
       " \n",
       " Rows: 100001\n",
       " \n",
       " Data:\n",
       " +-----------+-----+-----+------+-------+\n",
       " | threshold | fpr | tpr |  p   |   n   |\n",
       " +-----------+-----+-----+------+-------+\n",
       " |    0.0    | 1.0 | 1.0 | 3631 | 58912 |\n",
       " |   1e-05   | 1.0 | 1.0 | 3631 | 58912 |\n",
       " |   2e-05   | 1.0 | 1.0 | 3631 | 58912 |\n",
       " |   3e-05   | 1.0 | 1.0 | 3631 | 58912 |\n",
       " |   4e-05   | 1.0 | 1.0 | 3631 | 58912 |\n",
       " |   5e-05   | 1.0 | 1.0 | 3631 | 58912 |\n",
       " |   6e-05   | 1.0 | 1.0 | 3631 | 58912 |\n",
       " |   7e-05   | 1.0 | 1.0 | 3631 | 58912 |\n",
       " |   8e-05   | 1.0 | 1.0 | 3631 | 58912 |\n",
       " |   9e-05   | 1.0 | 1.0 | 3631 | 58912 |\n",
       " +-----------+-----+-----+------+-------+\n",
       " [100001 rows x 5 columns]\n",
       " Note: Only the head of the SFrame is printed.\n",
       " You can use print_rows(num_rows=m, num_columns=n) to print more rows and columns.}"
      ]
     },
     "execution_count": 45,
     "metadata": {},
     "output_type": "execute_result"
    }
   ],
   "source": [
    "random_forest_1.evaluate(test)"
   ]
  },
  {
   "cell_type": "code",
   "execution_count": 46,
   "metadata": {},
   "outputs": [
    {
     "data": {
      "text/plain": [
       "{'accuracy': 0.9427593815454967,\n",
       " 'auc': 0.7590525958570004,\n",
       " 'confusion_matrix': Columns:\n",
       " \ttarget_label\tint\n",
       " \tpredicted_label\tint\n",
       " \tcount\tint\n",
       " \n",
       " Rows: 4\n",
       " \n",
       " Data:\n",
       " +--------------+-----------------+-------+\n",
       " | target_label | predicted_label | count |\n",
       " +--------------+-----------------+-------+\n",
       " |      0       |        1        |   41  |\n",
       " |      0       |        0        | 58871 |\n",
       " |      1       |        1        |   92  |\n",
       " |      1       |        0        |  3539 |\n",
       " +--------------+-----------------+-------+\n",
       " [4 rows x 3 columns],\n",
       " 'f1_score': 0.04888416578108395,\n",
       " 'log_loss': 0.19890729456373105,\n",
       " 'precision': 0.6917293233082706,\n",
       " 'recall': 0.025337372624621317,\n",
       " 'roc_curve': Columns:\n",
       " \tthreshold\tfloat\n",
       " \tfpr\tfloat\n",
       " \ttpr\tfloat\n",
       " \tp\tint\n",
       " \tn\tint\n",
       " \n",
       " Rows: 100001\n",
       " \n",
       " Data:\n",
       " +-----------+-----+-----+------+-------+\n",
       " | threshold | fpr | tpr |  p   |   n   |\n",
       " +-----------+-----+-----+------+-------+\n",
       " |    0.0    | 1.0 | 1.0 | 3631 | 58912 |\n",
       " |   1e-05   | 1.0 | 1.0 | 3631 | 58912 |\n",
       " |   2e-05   | 1.0 | 1.0 | 3631 | 58912 |\n",
       " |   3e-05   | 1.0 | 1.0 | 3631 | 58912 |\n",
       " |   4e-05   | 1.0 | 1.0 | 3631 | 58912 |\n",
       " |   5e-05   | 1.0 | 1.0 | 3631 | 58912 |\n",
       " |   6e-05   | 1.0 | 1.0 | 3631 | 58912 |\n",
       " |   7e-05   | 1.0 | 1.0 | 3631 | 58912 |\n",
       " |   8e-05   | 1.0 | 1.0 | 3631 | 58912 |\n",
       " |   9e-05   | 1.0 | 1.0 | 3631 | 58912 |\n",
       " +-----------+-----+-----+------+-------+\n",
       " [100001 rows x 5 columns]\n",
       " Note: Only the head of the SFrame is printed.\n",
       " You can use print_rows(num_rows=m, num_columns=n) to print more rows and columns.}"
      ]
     },
     "execution_count": 46,
     "metadata": {},
     "output_type": "execute_result"
    }
   ],
   "source": [
    "gbm_1.evaluate(test)"
   ]
  },
  {
   "cell_type": "code",
   "execution_count": 47,
   "metadata": {},
   "outputs": [
    {
     "data": {
      "text/plain": [
       "{'accuracy': 0.9391778456421982, 'confusion_matrix': Columns:\n",
       " \ttarget_label\tint\n",
       " \tpredicted_label\tint\n",
       " \tcount\tint\n",
       " \n",
       " Rows: 4\n",
       " \n",
       " Data:\n",
       " +--------------+-----------------+-------+\n",
       " | target_label | predicted_label | count |\n",
       " +--------------+-----------------+-------+\n",
       " |      0       |        1        |  1534 |\n",
       " |      1       |        0        |  2270 |\n",
       " |      1       |        1        |  1361 |\n",
       " |      0       |        0        | 57378 |\n",
       " +--------------+-----------------+-------+\n",
       " [4 rows x 3 columns], 'f1_score': 0.4171008274593932, 'precision': 0.4701208981001727, 'recall': 0.3748278711098871}"
      ]
     },
     "execution_count": 47,
     "metadata": {},
     "output_type": "execute_result"
    }
   ],
   "source": [
    "svm_1.evaluate(test)"
   ]
  },
  {
   "cell_type": "code",
   "execution_count": null,
   "metadata": {
    "collapsed": true
   },
   "outputs": [],
   "source": []
  }
 ],
 "metadata": {
  "kernelspec": {
   "display_name": "Python 2",
   "language": "python",
   "name": "python2"
  },
  "language_info": {
   "codemirror_mode": {
    "name": "ipython",
    "version": 2
   },
   "file_extension": ".py",
   "mimetype": "text/x-python",
   "name": "python",
   "nbconvert_exporter": "python",
   "pygments_lexer": "ipython2",
   "version": "2.7.12"
  }
 },
 "nbformat": 4,
 "nbformat_minor": 2
}
