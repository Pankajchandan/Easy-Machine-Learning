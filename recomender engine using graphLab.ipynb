{
 "cells": [
  {
   "cell_type": "markdown",
   "metadata": {},
   "source": [
    "### Basics of recomender system can be found here:\n",
    "https://www.analyticsvidhya.com/blog/2015/10/recommendation-engines/\n",
    "\n",
    "We will be using graphlab framework to build a recomendation system. More on graphlab can be found here:\n",
    "https://www.analyticsvidhya.com/blog/2015/12/started-graphlab-python/\n",
    "this is a licences product and free trail version is available for 1 year for acedemic purpose\n",
    "\n",
    "Note:  graphlab is supported by python 2.7x . please switch to python2 kernel before using"
   ]
  },
  {
   "cell_type": "code",
   "execution_count": 3,
   "metadata": {
    "collapsed": true
   },
   "outputs": [],
   "source": [
    "import pandas as pd\n",
    "\n",
    "# pass in column names for each CSV and read them using pandas. \n",
    "# Column names available in the readme file\n",
    "\n",
    "#Reading users file:\n",
    "u_cols = ['user_id', 'age', 'sex', 'occupation', 'zip_code']\n",
    "users = pd.read_csv('ml-100k/u.user', sep='|', names=u_cols,\n",
    " encoding='latin-1')\n",
    "\n",
    "#Reading ratings file:\n",
    "r_cols = ['user_id', 'movie_id', 'rating', 'unix_timestamp']\n",
    "ratings = pd.read_csv('ml-100k/u.data', sep='\\t', names=r_cols,\n",
    " encoding='latin-1')\n",
    "\n",
    "#Reading items file:\n",
    "i_cols = ['movie_id', 'movie title' ,'release date','video release date', 'IMDb URL', 'unknown', 'Action', 'Adventure',\n",
    " 'Animation', 'Children\\'s', 'Comedy', 'Crime', 'Documentary', 'Drama', 'Fantasy',\n",
    " 'Film-Noir', 'Horror', 'Musical', 'Mystery', 'Romance', 'Sci-Fi', 'Thriller', 'War', 'Western']\n",
    "items = pd.read_csv('ml-100k/u.item', sep='|', names=i_cols,\n",
    " encoding='latin-1')"
   ]
  },
  {
   "cell_type": "code",
   "execution_count": 4,
   "metadata": {},
   "outputs": [
    {
     "data": {
      "text/html": [
       "<div>\n",
       "<style>\n",
       "    .dataframe thead tr:only-child th {\n",
       "        text-align: right;\n",
       "    }\n",
       "\n",
       "    .dataframe thead th {\n",
       "        text-align: left;\n",
       "    }\n",
       "\n",
       "    .dataframe tbody tr th {\n",
       "        vertical-align: top;\n",
       "    }\n",
       "</style>\n",
       "<table border=\"1\" class=\"dataframe\">\n",
       "  <thead>\n",
       "    <tr style=\"text-align: right;\">\n",
       "      <th></th>\n",
       "      <th>user_id</th>\n",
       "      <th>age</th>\n",
       "      <th>sex</th>\n",
       "      <th>occupation</th>\n",
       "      <th>zip_code</th>\n",
       "    </tr>\n",
       "  </thead>\n",
       "  <tbody>\n",
       "    <tr>\n",
       "      <th>0</th>\n",
       "      <td>1</td>\n",
       "      <td>24</td>\n",
       "      <td>M</td>\n",
       "      <td>technician</td>\n",
       "      <td>85711</td>\n",
       "    </tr>\n",
       "    <tr>\n",
       "      <th>1</th>\n",
       "      <td>2</td>\n",
       "      <td>53</td>\n",
       "      <td>F</td>\n",
       "      <td>other</td>\n",
       "      <td>94043</td>\n",
       "    </tr>\n",
       "    <tr>\n",
       "      <th>2</th>\n",
       "      <td>3</td>\n",
       "      <td>23</td>\n",
       "      <td>M</td>\n",
       "      <td>writer</td>\n",
       "      <td>32067</td>\n",
       "    </tr>\n",
       "    <tr>\n",
       "      <th>3</th>\n",
       "      <td>4</td>\n",
       "      <td>24</td>\n",
       "      <td>M</td>\n",
       "      <td>technician</td>\n",
       "      <td>43537</td>\n",
       "    </tr>\n",
       "    <tr>\n",
       "      <th>4</th>\n",
       "      <td>5</td>\n",
       "      <td>33</td>\n",
       "      <td>F</td>\n",
       "      <td>other</td>\n",
       "      <td>15213</td>\n",
       "    </tr>\n",
       "  </tbody>\n",
       "</table>\n",
       "</div>"
      ],
      "text/plain": [
       "   user_id  age sex  occupation zip_code\n",
       "0        1   24   M  technician    85711\n",
       "1        2   53   F       other    94043\n",
       "2        3   23   M      writer    32067\n",
       "3        4   24   M  technician    43537\n",
       "4        5   33   F       other    15213"
      ]
     },
     "execution_count": 4,
     "metadata": {},
     "output_type": "execute_result"
    }
   ],
   "source": [
    "users.head()"
   ]
  },
  {
   "cell_type": "code",
   "execution_count": 5,
   "metadata": {},
   "outputs": [
    {
     "data": {
      "text/html": [
       "<div>\n",
       "<style>\n",
       "    .dataframe thead tr:only-child th {\n",
       "        text-align: right;\n",
       "    }\n",
       "\n",
       "    .dataframe thead th {\n",
       "        text-align: left;\n",
       "    }\n",
       "\n",
       "    .dataframe tbody tr th {\n",
       "        vertical-align: top;\n",
       "    }\n",
       "</style>\n",
       "<table border=\"1\" class=\"dataframe\">\n",
       "  <thead>\n",
       "    <tr style=\"text-align: right;\">\n",
       "      <th></th>\n",
       "      <th>user_id</th>\n",
       "      <th>movie_id</th>\n",
       "      <th>rating</th>\n",
       "      <th>unix_timestamp</th>\n",
       "    </tr>\n",
       "  </thead>\n",
       "  <tbody>\n",
       "    <tr>\n",
       "      <th>0</th>\n",
       "      <td>196</td>\n",
       "      <td>242</td>\n",
       "      <td>3</td>\n",
       "      <td>881250949</td>\n",
       "    </tr>\n",
       "    <tr>\n",
       "      <th>1</th>\n",
       "      <td>186</td>\n",
       "      <td>302</td>\n",
       "      <td>3</td>\n",
       "      <td>891717742</td>\n",
       "    </tr>\n",
       "    <tr>\n",
       "      <th>2</th>\n",
       "      <td>22</td>\n",
       "      <td>377</td>\n",
       "      <td>1</td>\n",
       "      <td>878887116</td>\n",
       "    </tr>\n",
       "    <tr>\n",
       "      <th>3</th>\n",
       "      <td>244</td>\n",
       "      <td>51</td>\n",
       "      <td>2</td>\n",
       "      <td>880606923</td>\n",
       "    </tr>\n",
       "    <tr>\n",
       "      <th>4</th>\n",
       "      <td>166</td>\n",
       "      <td>346</td>\n",
       "      <td>1</td>\n",
       "      <td>886397596</td>\n",
       "    </tr>\n",
       "  </tbody>\n",
       "</table>\n",
       "</div>"
      ],
      "text/plain": [
       "   user_id  movie_id  rating  unix_timestamp\n",
       "0      196       242       3       881250949\n",
       "1      186       302       3       891717742\n",
       "2       22       377       1       878887116\n",
       "3      244        51       2       880606923\n",
       "4      166       346       1       886397596"
      ]
     },
     "execution_count": 5,
     "metadata": {},
     "output_type": "execute_result"
    }
   ],
   "source": [
    "ratings.head()"
   ]
  },
  {
   "cell_type": "code",
   "execution_count": 6,
   "metadata": {},
   "outputs": [
    {
     "data": {
      "text/html": [
       "<div>\n",
       "<style>\n",
       "    .dataframe thead tr:only-child th {\n",
       "        text-align: right;\n",
       "    }\n",
       "\n",
       "    .dataframe thead th {\n",
       "        text-align: left;\n",
       "    }\n",
       "\n",
       "    .dataframe tbody tr th {\n",
       "        vertical-align: top;\n",
       "    }\n",
       "</style>\n",
       "<table border=\"1\" class=\"dataframe\">\n",
       "  <thead>\n",
       "    <tr style=\"text-align: right;\">\n",
       "      <th></th>\n",
       "      <th>movie_id</th>\n",
       "      <th>movie title</th>\n",
       "      <th>release date</th>\n",
       "      <th>video release date</th>\n",
       "      <th>IMDb URL</th>\n",
       "      <th>unknown</th>\n",
       "      <th>Action</th>\n",
       "      <th>Adventure</th>\n",
       "      <th>Animation</th>\n",
       "      <th>Children's</th>\n",
       "      <th>...</th>\n",
       "      <th>Fantasy</th>\n",
       "      <th>Film-Noir</th>\n",
       "      <th>Horror</th>\n",
       "      <th>Musical</th>\n",
       "      <th>Mystery</th>\n",
       "      <th>Romance</th>\n",
       "      <th>Sci-Fi</th>\n",
       "      <th>Thriller</th>\n",
       "      <th>War</th>\n",
       "      <th>Western</th>\n",
       "    </tr>\n",
       "  </thead>\n",
       "  <tbody>\n",
       "    <tr>\n",
       "      <th>0</th>\n",
       "      <td>1</td>\n",
       "      <td>Toy Story (1995)</td>\n",
       "      <td>01-Jan-1995</td>\n",
       "      <td>NaN</td>\n",
       "      <td>http://us.imdb.com/M/title-exact?Toy%20Story%2...</td>\n",
       "      <td>0</td>\n",
       "      <td>0</td>\n",
       "      <td>0</td>\n",
       "      <td>1</td>\n",
       "      <td>1</td>\n",
       "      <td>...</td>\n",
       "      <td>0</td>\n",
       "      <td>0</td>\n",
       "      <td>0</td>\n",
       "      <td>0</td>\n",
       "      <td>0</td>\n",
       "      <td>0</td>\n",
       "      <td>0</td>\n",
       "      <td>0</td>\n",
       "      <td>0</td>\n",
       "      <td>0</td>\n",
       "    </tr>\n",
       "    <tr>\n",
       "      <th>1</th>\n",
       "      <td>2</td>\n",
       "      <td>GoldenEye (1995)</td>\n",
       "      <td>01-Jan-1995</td>\n",
       "      <td>NaN</td>\n",
       "      <td>http://us.imdb.com/M/title-exact?GoldenEye%20(...</td>\n",
       "      <td>0</td>\n",
       "      <td>1</td>\n",
       "      <td>1</td>\n",
       "      <td>0</td>\n",
       "      <td>0</td>\n",
       "      <td>...</td>\n",
       "      <td>0</td>\n",
       "      <td>0</td>\n",
       "      <td>0</td>\n",
       "      <td>0</td>\n",
       "      <td>0</td>\n",
       "      <td>0</td>\n",
       "      <td>0</td>\n",
       "      <td>1</td>\n",
       "      <td>0</td>\n",
       "      <td>0</td>\n",
       "    </tr>\n",
       "    <tr>\n",
       "      <th>2</th>\n",
       "      <td>3</td>\n",
       "      <td>Four Rooms (1995)</td>\n",
       "      <td>01-Jan-1995</td>\n",
       "      <td>NaN</td>\n",
       "      <td>http://us.imdb.com/M/title-exact?Four%20Rooms%...</td>\n",
       "      <td>0</td>\n",
       "      <td>0</td>\n",
       "      <td>0</td>\n",
       "      <td>0</td>\n",
       "      <td>0</td>\n",
       "      <td>...</td>\n",
       "      <td>0</td>\n",
       "      <td>0</td>\n",
       "      <td>0</td>\n",
       "      <td>0</td>\n",
       "      <td>0</td>\n",
       "      <td>0</td>\n",
       "      <td>0</td>\n",
       "      <td>1</td>\n",
       "      <td>0</td>\n",
       "      <td>0</td>\n",
       "    </tr>\n",
       "    <tr>\n",
       "      <th>3</th>\n",
       "      <td>4</td>\n",
       "      <td>Get Shorty (1995)</td>\n",
       "      <td>01-Jan-1995</td>\n",
       "      <td>NaN</td>\n",
       "      <td>http://us.imdb.com/M/title-exact?Get%20Shorty%...</td>\n",
       "      <td>0</td>\n",
       "      <td>1</td>\n",
       "      <td>0</td>\n",
       "      <td>0</td>\n",
       "      <td>0</td>\n",
       "      <td>...</td>\n",
       "      <td>0</td>\n",
       "      <td>0</td>\n",
       "      <td>0</td>\n",
       "      <td>0</td>\n",
       "      <td>0</td>\n",
       "      <td>0</td>\n",
       "      <td>0</td>\n",
       "      <td>0</td>\n",
       "      <td>0</td>\n",
       "      <td>0</td>\n",
       "    </tr>\n",
       "    <tr>\n",
       "      <th>4</th>\n",
       "      <td>5</td>\n",
       "      <td>Copycat (1995)</td>\n",
       "      <td>01-Jan-1995</td>\n",
       "      <td>NaN</td>\n",
       "      <td>http://us.imdb.com/M/title-exact?Copycat%20(1995)</td>\n",
       "      <td>0</td>\n",
       "      <td>0</td>\n",
       "      <td>0</td>\n",
       "      <td>0</td>\n",
       "      <td>0</td>\n",
       "      <td>...</td>\n",
       "      <td>0</td>\n",
       "      <td>0</td>\n",
       "      <td>0</td>\n",
       "      <td>0</td>\n",
       "      <td>0</td>\n",
       "      <td>0</td>\n",
       "      <td>0</td>\n",
       "      <td>1</td>\n",
       "      <td>0</td>\n",
       "      <td>0</td>\n",
       "    </tr>\n",
       "  </tbody>\n",
       "</table>\n",
       "<p>5 rows × 24 columns</p>\n",
       "</div>"
      ],
      "text/plain": [
       "   movie_id        movie title release date  video release date  \\\n",
       "0         1   Toy Story (1995)  01-Jan-1995                 NaN   \n",
       "1         2   GoldenEye (1995)  01-Jan-1995                 NaN   \n",
       "2         3  Four Rooms (1995)  01-Jan-1995                 NaN   \n",
       "3         4  Get Shorty (1995)  01-Jan-1995                 NaN   \n",
       "4         5     Copycat (1995)  01-Jan-1995                 NaN   \n",
       "\n",
       "                                            IMDb URL  unknown  Action  \\\n",
       "0  http://us.imdb.com/M/title-exact?Toy%20Story%2...        0       0   \n",
       "1  http://us.imdb.com/M/title-exact?GoldenEye%20(...        0       1   \n",
       "2  http://us.imdb.com/M/title-exact?Four%20Rooms%...        0       0   \n",
       "3  http://us.imdb.com/M/title-exact?Get%20Shorty%...        0       1   \n",
       "4  http://us.imdb.com/M/title-exact?Copycat%20(1995)        0       0   \n",
       "\n",
       "   Adventure  Animation  Children's   ...     Fantasy  Film-Noir  Horror  \\\n",
       "0          0          1           1   ...           0          0       0   \n",
       "1          1          0           0   ...           0          0       0   \n",
       "2          0          0           0   ...           0          0       0   \n",
       "3          0          0           0   ...           0          0       0   \n",
       "4          0          0           0   ...           0          0       0   \n",
       "\n",
       "   Musical  Mystery  Romance  Sci-Fi  Thriller  War  Western  \n",
       "0        0        0        0       0         0    0        0  \n",
       "1        0        0        0       0         1    0        0  \n",
       "2        0        0        0       0         1    0        0  \n",
       "3        0        0        0       0         0    0        0  \n",
       "4        0        0        0       0         1    0        0  \n",
       "\n",
       "[5 rows x 24 columns]"
      ]
     },
     "execution_count": 6,
     "metadata": {},
     "output_type": "execute_result"
    }
   ],
   "source": [
    "items.head()"
   ]
  },
  {
   "cell_type": "code",
   "execution_count": 9,
   "metadata": {},
   "outputs": [],
   "source": [
    "itemData=items\n",
    "itemData=itemData.drop('movie title',axis=1)\n",
    "itemData=itemData.drop('release date',axis=1)\n",
    "itemData=itemData.drop('video release date',axis=1)\n",
    "itemData=itemData.drop('IMDb URL',axis=1)"
   ]
  },
  {
   "cell_type": "code",
   "execution_count": 10,
   "metadata": {},
   "outputs": [
    {
     "name": "stdout",
     "output_type": "stream",
     "text": [
      "(943, 5)\n",
      "(100000, 4)\n",
      "(1682, 24)\n",
      "(1682, 20)\n"
     ]
    }
   ],
   "source": [
    "print(users.shape)\n",
    "print(ratings.shape)\n",
    "print(items.shape)\n",
    "print(itemData.shape)"
   ]
  },
  {
   "cell_type": "code",
   "execution_count": 11,
   "metadata": {},
   "outputs": [
    {
     "data": {
      "text/plain": [
       "((90570, 4), (9430, 4))"
      ]
     },
     "execution_count": 11,
     "metadata": {},
     "output_type": "execute_result"
    }
   ],
   "source": [
    "r_cols = ['user_id', 'movie_id', 'rating', 'unix_timestamp']\n",
    "ratings_base = pd.read_csv('ml-100k/ua.base', sep='\\t', names=r_cols, encoding='latin-1')\n",
    "ratings_test = pd.read_csv('ml-100k/ua.test', sep='\\t', names=r_cols, encoding='latin-1')\n",
    "ratings_base.shape, ratings_test.shape"
   ]
  },
  {
   "cell_type": "code",
   "execution_count": 12,
   "metadata": {},
   "outputs": [
    {
     "data": {
      "text/html": [
       "<div>\n",
       "<style>\n",
       "    .dataframe thead tr:only-child th {\n",
       "        text-align: right;\n",
       "    }\n",
       "\n",
       "    .dataframe thead th {\n",
       "        text-align: left;\n",
       "    }\n",
       "\n",
       "    .dataframe tbody tr th {\n",
       "        vertical-align: top;\n",
       "    }\n",
       "</style>\n",
       "<table border=\"1\" class=\"dataframe\">\n",
       "  <thead>\n",
       "    <tr style=\"text-align: right;\">\n",
       "      <th></th>\n",
       "      <th>user_id</th>\n",
       "      <th>movie_id</th>\n",
       "      <th>rating</th>\n",
       "      <th>unix_timestamp</th>\n",
       "    </tr>\n",
       "  </thead>\n",
       "  <tbody>\n",
       "    <tr>\n",
       "      <th>0</th>\n",
       "      <td>1</td>\n",
       "      <td>20</td>\n",
       "      <td>4</td>\n",
       "      <td>887431883</td>\n",
       "    </tr>\n",
       "    <tr>\n",
       "      <th>1</th>\n",
       "      <td>1</td>\n",
       "      <td>33</td>\n",
       "      <td>4</td>\n",
       "      <td>878542699</td>\n",
       "    </tr>\n",
       "    <tr>\n",
       "      <th>2</th>\n",
       "      <td>1</td>\n",
       "      <td>61</td>\n",
       "      <td>4</td>\n",
       "      <td>878542420</td>\n",
       "    </tr>\n",
       "    <tr>\n",
       "      <th>3</th>\n",
       "      <td>1</td>\n",
       "      <td>117</td>\n",
       "      <td>3</td>\n",
       "      <td>874965739</td>\n",
       "    </tr>\n",
       "    <tr>\n",
       "      <th>4</th>\n",
       "      <td>1</td>\n",
       "      <td>155</td>\n",
       "      <td>2</td>\n",
       "      <td>878542201</td>\n",
       "    </tr>\n",
       "  </tbody>\n",
       "</table>\n",
       "</div>"
      ],
      "text/plain": [
       "   user_id  movie_id  rating  unix_timestamp\n",
       "0        1        20       4       887431883\n",
       "1        1        33       4       878542699\n",
       "2        1        61       4       878542420\n",
       "3        1       117       3       874965739\n",
       "4        1       155       2       878542201"
      ]
     },
     "execution_count": 12,
     "metadata": {},
     "output_type": "execute_result"
    }
   ],
   "source": [
    "ratings_test.head()"
   ]
  },
  {
   "cell_type": "code",
   "execution_count": 14,
   "metadata": {},
   "outputs": [],
   "source": [
    "import graphlab\n",
    "train_data = graphlab.SFrame(ratings_base)\n",
    "test_data = graphlab.SFrame(ratings_test)\n",
    "item_data = graphlab.SFrame(itemData)"
   ]
  },
  {
   "cell_type": "markdown",
   "metadata": {},
   "source": [
    "#### simple popularity model"
   ]
  },
  {
   "cell_type": "code",
   "execution_count": 16,
   "metadata": {},
   "outputs": [
    {
     "data": {
      "text/html": [
       "<pre>Recsys training: model = popularity</pre>"
      ],
      "text/plain": [
       "Recsys training: model = popularity"
      ]
     },
     "metadata": {},
     "output_type": "display_data"
    },
    {
     "data": {
      "text/html": [
       "<pre>Warning: Ignoring columns unix_timestamp;</pre>"
      ],
      "text/plain": [
       "Warning: Ignoring columns unix_timestamp;"
      ]
     },
     "metadata": {},
     "output_type": "display_data"
    },
    {
     "data": {
      "text/html": [
       "<pre>    To use these columns in scoring predictions, use a model that allows the use of additional features.</pre>"
      ],
      "text/plain": [
       "    To use these columns in scoring predictions, use a model that allows the use of additional features."
      ]
     },
     "metadata": {},
     "output_type": "display_data"
    },
    {
     "data": {
      "text/html": [
       "<pre>Preparing data set.</pre>"
      ],
      "text/plain": [
       "Preparing data set."
      ]
     },
     "metadata": {},
     "output_type": "display_data"
    },
    {
     "data": {
      "text/html": [
       "<pre>    Data has 90570 observations with 943 users and 1682 items.</pre>"
      ],
      "text/plain": [
       "    Data has 90570 observations with 943 users and 1682 items."
      ]
     },
     "metadata": {},
     "output_type": "display_data"
    },
    {
     "data": {
      "text/html": [
       "<pre>    Data prepared in: 0.271305s</pre>"
      ],
      "text/plain": [
       "    Data prepared in: 0.271305s"
      ]
     },
     "metadata": {},
     "output_type": "display_data"
    },
    {
     "data": {
      "text/html": [
       "<pre>90570 observations to process; with 1682 unique items.</pre>"
      ],
      "text/plain": [
       "90570 observations to process; with 1682 unique items."
      ]
     },
     "metadata": {},
     "output_type": "display_data"
    }
   ],
   "source": [
    "popularity_model = graphlab.popularity_recommender.create(train_data, user_id='user_id', item_id='movie_id', target='rating',item_data=item_data)"
   ]
  },
  {
   "cell_type": "code",
   "execution_count": 17,
   "metadata": {},
   "outputs": [
    {
     "name": "stdout",
     "output_type": "stream",
     "text": [
      "+---------+----------+-------+------+\n",
      "| user_id | movie_id | score | rank |\n",
      "+---------+----------+-------+------+\n",
      "|    1    |   1293   |  5.0  |  1   |\n",
      "|    1    |   1201   |  5.0  |  2   |\n",
      "|    1    |   1189   |  5.0  |  3   |\n",
      "|    1    |   1122   |  5.0  |  4   |\n",
      "|    1    |   814    |  5.0  |  5   |\n",
      "|    2    |   1293   |  5.0  |  1   |\n",
      "|    2    |   1201   |  5.0  |  2   |\n",
      "|    2    |   1189   |  5.0  |  3   |\n",
      "|    2    |   1122   |  5.0  |  4   |\n",
      "|    2    |   814    |  5.0  |  5   |\n",
      "|    3    |   1293   |  5.0  |  1   |\n",
      "|    3    |   1201   |  5.0  |  2   |\n",
      "|    3    |   1189   |  5.0  |  3   |\n",
      "|    3    |   1122   |  5.0  |  4   |\n",
      "|    3    |   814    |  5.0  |  5   |\n",
      "|    4    |   1293   |  5.0  |  1   |\n",
      "|    4    |   1201   |  5.0  |  2   |\n",
      "|    4    |   1189   |  5.0  |  3   |\n",
      "|    4    |   1122   |  5.0  |  4   |\n",
      "|    4    |   814    |  5.0  |  5   |\n",
      "|    5    |   1293   |  5.0  |  1   |\n",
      "|    5    |   1201   |  5.0  |  2   |\n",
      "|    5    |   1189   |  5.0  |  3   |\n",
      "|    5    |   1122   |  5.0  |  4   |\n",
      "|    5    |   814    |  5.0  |  5   |\n",
      "+---------+----------+-------+------+\n",
      "[25 rows x 4 columns]\n",
      "\n"
     ]
    }
   ],
   "source": [
    "#Get recommendations for first 5 users and print them\n",
    "#users = range(1,6) specifies user ID of first 5 users\n",
    "#k=5 specifies top 5 recommendations to be given\n",
    "popularity_recomm = popularity_model.recommend(users=range(1,6),k=5)\n",
    "popularity_recomm.print_rows(num_rows=25)"
   ]
  },
  {
   "cell_type": "code",
   "execution_count": 18,
   "metadata": {},
   "outputs": [
    {
     "data": {
      "text/plain": [
       "movie_id\n",
       "1500    5.000000\n",
       "1293    5.000000\n",
       "1122    5.000000\n",
       "1189    5.000000\n",
       "1656    5.000000\n",
       "1201    5.000000\n",
       "1599    5.000000\n",
       "814     5.000000\n",
       "1467    5.000000\n",
       "1536    5.000000\n",
       "1449    4.714286\n",
       "1642    4.500000\n",
       "1463    4.500000\n",
       "1594    4.500000\n",
       "1398    4.500000\n",
       "114     4.491525\n",
       "408     4.480769\n",
       "169     4.476636\n",
       "318     4.475836\n",
       "483     4.459821\n",
       "Name: rating, dtype: float64"
      ]
     },
     "execution_count": 18,
     "metadata": {},
     "output_type": "execute_result"
    }
   ],
   "source": [
    "ratings_base.groupby(by='movie_id')['rating'].mean().sort_values(ascending=False).head(20)"
   ]
  },
  {
   "cell_type": "markdown",
   "metadata": {},
   "source": [
    "#### A Collaborative Filtering Model"
   ]
  },
  {
   "cell_type": "code",
   "execution_count": 20,
   "metadata": {},
   "outputs": [
    {
     "data": {
      "text/html": [
       "<pre>Recsys training: model = item_similarity</pre>"
      ],
      "text/plain": [
       "Recsys training: model = item_similarity"
      ]
     },
     "metadata": {},
     "output_type": "display_data"
    },
    {
     "data": {
      "text/html": [
       "<pre>Warning: Ignoring columns unix_timestamp;</pre>"
      ],
      "text/plain": [
       "Warning: Ignoring columns unix_timestamp;"
      ]
     },
     "metadata": {},
     "output_type": "display_data"
    },
    {
     "data": {
      "text/html": [
       "<pre>    To use these columns in scoring predictions, use a model that allows the use of additional features.</pre>"
      ],
      "text/plain": [
       "    To use these columns in scoring predictions, use a model that allows the use of additional features."
      ]
     },
     "metadata": {},
     "output_type": "display_data"
    },
    {
     "data": {
      "text/html": [
       "<pre>Preparing data set.</pre>"
      ],
      "text/plain": [
       "Preparing data set."
      ]
     },
     "metadata": {},
     "output_type": "display_data"
    },
    {
     "data": {
      "text/html": [
       "<pre>    Data has 90570 observations with 943 users and 1682 items.</pre>"
      ],
      "text/plain": [
       "    Data has 90570 observations with 943 users and 1682 items."
      ]
     },
     "metadata": {},
     "output_type": "display_data"
    },
    {
     "data": {
      "text/html": [
       "<pre>    Data prepared in: 0.186944s</pre>"
      ],
      "text/plain": [
       "    Data prepared in: 0.186944s"
      ]
     },
     "metadata": {},
     "output_type": "display_data"
    },
    {
     "data": {
      "text/html": [
       "<pre>Training model from provided data.</pre>"
      ],
      "text/plain": [
       "Training model from provided data."
      ]
     },
     "metadata": {},
     "output_type": "display_data"
    },
    {
     "data": {
      "text/html": [
       "<pre>Gathering per-item and per-user statistics.</pre>"
      ],
      "text/plain": [
       "Gathering per-item and per-user statistics."
      ]
     },
     "metadata": {},
     "output_type": "display_data"
    },
    {
     "data": {
      "text/html": [
       "<pre>+--------------------------------+------------+</pre>"
      ],
      "text/plain": [
       "+--------------------------------+------------+"
      ]
     },
     "metadata": {},
     "output_type": "display_data"
    },
    {
     "data": {
      "text/html": [
       "<pre>| Elapsed Time (Item Statistics) | % Complete |</pre>"
      ],
      "text/plain": [
       "| Elapsed Time (Item Statistics) | % Complete |"
      ]
     },
     "metadata": {},
     "output_type": "display_data"
    },
    {
     "data": {
      "text/html": [
       "<pre>+--------------------------------+------------+</pre>"
      ],
      "text/plain": [
       "+--------------------------------+------------+"
      ]
     },
     "metadata": {},
     "output_type": "display_data"
    },
    {
     "data": {
      "text/html": [
       "<pre>| 64.845ms                       | 100        |</pre>"
      ],
      "text/plain": [
       "| 64.845ms                       | 100        |"
      ]
     },
     "metadata": {},
     "output_type": "display_data"
    },
    {
     "data": {
      "text/html": [
       "<pre>+--------------------------------+------------+</pre>"
      ],
      "text/plain": [
       "+--------------------------------+------------+"
      ]
     },
     "metadata": {},
     "output_type": "display_data"
    },
    {
     "data": {
      "text/html": [
       "<pre>Setting up lookup tables.</pre>"
      ],
      "text/plain": [
       "Setting up lookup tables."
      ]
     },
     "metadata": {},
     "output_type": "display_data"
    },
    {
     "data": {
      "text/html": [
       "<pre>Processing data in one pass using dense lookup tables.</pre>"
      ],
      "text/plain": [
       "Processing data in one pass using dense lookup tables."
      ]
     },
     "metadata": {},
     "output_type": "display_data"
    },
    {
     "data": {
      "text/html": [
       "<pre>+-------------------------------------+------------------+-----------------+</pre>"
      ],
      "text/plain": [
       "+-------------------------------------+------------------+-----------------+"
      ]
     },
     "metadata": {},
     "output_type": "display_data"
    },
    {
     "data": {
      "text/html": [
       "<pre>| Elapsed Time (Constructing Lookups) | Total % Complete | Items Processed |</pre>"
      ],
      "text/plain": [
       "| Elapsed Time (Constructing Lookups) | Total % Complete | Items Processed |"
      ]
     },
     "metadata": {},
     "output_type": "display_data"
    },
    {
     "data": {
      "text/html": [
       "<pre>+-------------------------------------+------------------+-----------------+</pre>"
      ],
      "text/plain": [
       "+-------------------------------------+------------------+-----------------+"
      ]
     },
     "metadata": {},
     "output_type": "display_data"
    },
    {
     "data": {
      "text/html": [
       "<pre>| 88.999ms                            | 0.25             | 6               |</pre>"
      ],
      "text/plain": [
       "| 88.999ms                            | 0.25             | 6               |"
      ]
     },
     "metadata": {},
     "output_type": "display_data"
    },
    {
     "data": {
      "text/html": [
       "<pre>| 297.056ms                           | 100              | 1682            |</pre>"
      ],
      "text/plain": [
       "| 297.056ms                           | 100              | 1682            |"
      ]
     },
     "metadata": {},
     "output_type": "display_data"
    },
    {
     "data": {
      "text/html": [
       "<pre>+-------------------------------------+------------------+-----------------+</pre>"
      ],
      "text/plain": [
       "+-------------------------------------+------------------+-----------------+"
      ]
     },
     "metadata": {},
     "output_type": "display_data"
    },
    {
     "data": {
      "text/html": [
       "<pre>Finalizing lookup tables.</pre>"
      ],
      "text/plain": [
       "Finalizing lookup tables."
      ]
     },
     "metadata": {},
     "output_type": "display_data"
    },
    {
     "data": {
      "text/html": [
       "<pre>Generating candidate set for working with new users.</pre>"
      ],
      "text/plain": [
       "Generating candidate set for working with new users."
      ]
     },
     "metadata": {},
     "output_type": "display_data"
    },
    {
     "data": {
      "text/html": [
       "<pre>Finished training in 1.39414s</pre>"
      ],
      "text/plain": [
       "Finished training in 1.39414s"
      ]
     },
     "metadata": {},
     "output_type": "display_data"
    },
    {
     "name": "stdout",
     "output_type": "stream",
     "text": [
      "+---------+----------+----------------+------+\n",
      "| user_id | movie_id |     score      | rank |\n",
      "+---------+----------+----------------+------+\n",
      "|    1    |   423    | 0.983670106371 |  1   |\n",
      "|    1    |   202    | 0.943675901371 |  2   |\n",
      "|    1    |   655    | 0.803317898785 |  3   |\n",
      "|    1    |   403    | 0.776517818675 |  4   |\n",
      "|    1    |   568    | 0.752243658969 |  5   |\n",
      "|    2    |    50    | 1.12562584877  |  1   |\n",
      "|    2    |   181    | 1.06517731685  |  2   |\n",
      "|    2    |    7     | 0.975477427244 |  3   |\n",
      "|    2    |   121    | 0.922513024165 |  4   |\n",
      "|    2    |    98    | 0.856430360904 |  5   |\n",
      "|    3    |   313    | 0.635376662016 |  1   |\n",
      "|    3    |   328    | 0.603288030083 |  2   |\n",
      "|    3    |   315    | 0.542258712378 |  3   |\n",
      "|    3    |   331    | 0.535507185893 |  4   |\n",
      "|    3    |   332    | 0.531669611281 |  5   |\n",
      "|    4    |    50    | 1.13114770821  |  1   |\n",
      "|    4    |   288    | 1.04871511459  |  2   |\n",
      "|    4    |   181    | 0.950599938631 |  3   |\n",
      "|    4    |    7     | 0.941777880703 |  4   |\n",
      "|    4    |   302    | 0.913902146476 |  5   |\n",
      "|    5    |   195    | 1.04468541543  |  1   |\n",
      "|    5    |   202    | 0.943174810482 |  2   |\n",
      "|    5    |    82    | 0.87814684456  |  3   |\n",
      "|    5    |    56    | 0.826666217501 |  4   |\n",
      "|    5    |    96    | 0.798805341937 |  5   |\n",
      "+---------+----------+----------------+------+\n",
      "[25 rows x 4 columns]\n",
      "\n"
     ]
    }
   ],
   "source": [
    "#Train Model\n",
    "item_sim_model = graphlab.item_similarity_recommender.create(train_data, \n",
    "                 user_id='user_id', item_id='movie_id', target='rating', item_data=item_data, similarity_type='cosine')\n",
    "\n",
    "#Make Recommendations:\n",
    "item_sim_recomm = item_sim_model.recommend(users=range(1,6),k=5)\n",
    "item_sim_recomm.print_rows(num_rows=50)"
   ]
  },
  {
   "cell_type": "code",
   "execution_count": 21,
   "metadata": {},
   "outputs": [
    {
     "data": {
      "text/html": [
       "<div>\n",
       "<style>\n",
       "    .dataframe thead tr:only-child th {\n",
       "        text-align: right;\n",
       "    }\n",
       "\n",
       "    .dataframe thead th {\n",
       "        text-align: left;\n",
       "    }\n",
       "\n",
       "    .dataframe tbody tr th {\n",
       "        vertical-align: top;\n",
       "    }\n",
       "</style>\n",
       "<table border=\"1\" class=\"dataframe\">\n",
       "  <thead>\n",
       "    <tr style=\"text-align: right;\">\n",
       "      <th></th>\n",
       "      <th>user_id</th>\n",
       "      <th>movie_id</th>\n",
       "      <th>rating</th>\n",
       "      <th>unix_timestamp</th>\n",
       "    </tr>\n",
       "  </thead>\n",
       "  <tbody>\n",
       "    <tr>\n",
       "      <th>0</th>\n",
       "      <td>1</td>\n",
       "      <td>20</td>\n",
       "      <td>4</td>\n",
       "      <td>887431883</td>\n",
       "    </tr>\n",
       "    <tr>\n",
       "      <th>1</th>\n",
       "      <td>1</td>\n",
       "      <td>33</td>\n",
       "      <td>4</td>\n",
       "      <td>878542699</td>\n",
       "    </tr>\n",
       "    <tr>\n",
       "      <th>2</th>\n",
       "      <td>1</td>\n",
       "      <td>61</td>\n",
       "      <td>4</td>\n",
       "      <td>878542420</td>\n",
       "    </tr>\n",
       "    <tr>\n",
       "      <th>3</th>\n",
       "      <td>1</td>\n",
       "      <td>117</td>\n",
       "      <td>3</td>\n",
       "      <td>874965739</td>\n",
       "    </tr>\n",
       "    <tr>\n",
       "      <th>4</th>\n",
       "      <td>1</td>\n",
       "      <td>155</td>\n",
       "      <td>2</td>\n",
       "      <td>878542201</td>\n",
       "    </tr>\n",
       "    <tr>\n",
       "      <th>10</th>\n",
       "      <td>2</td>\n",
       "      <td>13</td>\n",
       "      <td>4</td>\n",
       "      <td>888551922</td>\n",
       "    </tr>\n",
       "    <tr>\n",
       "      <th>11</th>\n",
       "      <td>2</td>\n",
       "      <td>50</td>\n",
       "      <td>5</td>\n",
       "      <td>888552084</td>\n",
       "    </tr>\n",
       "    <tr>\n",
       "      <th>12</th>\n",
       "      <td>2</td>\n",
       "      <td>251</td>\n",
       "      <td>5</td>\n",
       "      <td>888552084</td>\n",
       "    </tr>\n",
       "    <tr>\n",
       "      <th>13</th>\n",
       "      <td>2</td>\n",
       "      <td>280</td>\n",
       "      <td>3</td>\n",
       "      <td>888551441</td>\n",
       "    </tr>\n",
       "    <tr>\n",
       "      <th>14</th>\n",
       "      <td>2</td>\n",
       "      <td>281</td>\n",
       "      <td>3</td>\n",
       "      <td>888980240</td>\n",
       "    </tr>\n",
       "    <tr>\n",
       "      <th>20</th>\n",
       "      <td>3</td>\n",
       "      <td>245</td>\n",
       "      <td>1</td>\n",
       "      <td>889237247</td>\n",
       "    </tr>\n",
       "    <tr>\n",
       "      <th>21</th>\n",
       "      <td>3</td>\n",
       "      <td>294</td>\n",
       "      <td>2</td>\n",
       "      <td>889237224</td>\n",
       "    </tr>\n",
       "    <tr>\n",
       "      <th>22</th>\n",
       "      <td>3</td>\n",
       "      <td>323</td>\n",
       "      <td>2</td>\n",
       "      <td>889237269</td>\n",
       "    </tr>\n",
       "    <tr>\n",
       "      <th>23</th>\n",
       "      <td>3</td>\n",
       "      <td>328</td>\n",
       "      <td>5</td>\n",
       "      <td>889237455</td>\n",
       "    </tr>\n",
       "    <tr>\n",
       "      <th>24</th>\n",
       "      <td>3</td>\n",
       "      <td>331</td>\n",
       "      <td>4</td>\n",
       "      <td>889237455</td>\n",
       "    </tr>\n",
       "    <tr>\n",
       "      <th>30</th>\n",
       "      <td>4</td>\n",
       "      <td>50</td>\n",
       "      <td>5</td>\n",
       "      <td>892003526</td>\n",
       "    </tr>\n",
       "    <tr>\n",
       "      <th>31</th>\n",
       "      <td>4</td>\n",
       "      <td>260</td>\n",
       "      <td>4</td>\n",
       "      <td>892004275</td>\n",
       "    </tr>\n",
       "    <tr>\n",
       "      <th>32</th>\n",
       "      <td>4</td>\n",
       "      <td>264</td>\n",
       "      <td>3</td>\n",
       "      <td>892004275</td>\n",
       "    </tr>\n",
       "    <tr>\n",
       "      <th>33</th>\n",
       "      <td>4</td>\n",
       "      <td>288</td>\n",
       "      <td>4</td>\n",
       "      <td>892001445</td>\n",
       "    </tr>\n",
       "    <tr>\n",
       "      <th>34</th>\n",
       "      <td>4</td>\n",
       "      <td>294</td>\n",
       "      <td>5</td>\n",
       "      <td>892004409</td>\n",
       "    </tr>\n",
       "    <tr>\n",
       "      <th>40</th>\n",
       "      <td>5</td>\n",
       "      <td>1</td>\n",
       "      <td>4</td>\n",
       "      <td>875635748</td>\n",
       "    </tr>\n",
       "    <tr>\n",
       "      <th>41</th>\n",
       "      <td>5</td>\n",
       "      <td>2</td>\n",
       "      <td>3</td>\n",
       "      <td>875636053</td>\n",
       "    </tr>\n",
       "    <tr>\n",
       "      <th>42</th>\n",
       "      <td>5</td>\n",
       "      <td>17</td>\n",
       "      <td>4</td>\n",
       "      <td>875636198</td>\n",
       "    </tr>\n",
       "    <tr>\n",
       "      <th>43</th>\n",
       "      <td>5</td>\n",
       "      <td>98</td>\n",
       "      <td>3</td>\n",
       "      <td>875720691</td>\n",
       "    </tr>\n",
       "    <tr>\n",
       "      <th>44</th>\n",
       "      <td>5</td>\n",
       "      <td>110</td>\n",
       "      <td>1</td>\n",
       "      <td>875636493</td>\n",
       "    </tr>\n",
       "    <tr>\n",
       "      <th>50</th>\n",
       "      <td>6</td>\n",
       "      <td>14</td>\n",
       "      <td>5</td>\n",
       "      <td>883599249</td>\n",
       "    </tr>\n",
       "    <tr>\n",
       "      <th>51</th>\n",
       "      <td>6</td>\n",
       "      <td>23</td>\n",
       "      <td>4</td>\n",
       "      <td>883601365</td>\n",
       "    </tr>\n",
       "    <tr>\n",
       "      <th>52</th>\n",
       "      <td>6</td>\n",
       "      <td>69</td>\n",
       "      <td>3</td>\n",
       "      <td>883601277</td>\n",
       "    </tr>\n",
       "    <tr>\n",
       "      <th>53</th>\n",
       "      <td>6</td>\n",
       "      <td>86</td>\n",
       "      <td>3</td>\n",
       "      <td>883603013</td>\n",
       "    </tr>\n",
       "    <tr>\n",
       "      <th>54</th>\n",
       "      <td>6</td>\n",
       "      <td>98</td>\n",
       "      <td>5</td>\n",
       "      <td>883600680</td>\n",
       "    </tr>\n",
       "    <tr>\n",
       "      <th>...</th>\n",
       "      <td>...</td>\n",
       "      <td>...</td>\n",
       "      <td>...</td>\n",
       "      <td>...</td>\n",
       "    </tr>\n",
       "    <tr>\n",
       "      <th>9370</th>\n",
       "      <td>938</td>\n",
       "      <td>122</td>\n",
       "      <td>1</td>\n",
       "      <td>891357190</td>\n",
       "    </tr>\n",
       "    <tr>\n",
       "      <th>9371</th>\n",
       "      <td>938</td>\n",
       "      <td>125</td>\n",
       "      <td>3</td>\n",
       "      <td>891356742</td>\n",
       "    </tr>\n",
       "    <tr>\n",
       "      <th>9372</th>\n",
       "      <td>938</td>\n",
       "      <td>240</td>\n",
       "      <td>2</td>\n",
       "      <td>891356847</td>\n",
       "    </tr>\n",
       "    <tr>\n",
       "      <th>9373</th>\n",
       "      <td>938</td>\n",
       "      <td>313</td>\n",
       "      <td>5</td>\n",
       "      <td>891349471</td>\n",
       "    </tr>\n",
       "    <tr>\n",
       "      <th>9374</th>\n",
       "      <td>938</td>\n",
       "      <td>333</td>\n",
       "      <td>4</td>\n",
       "      <td>891356146</td>\n",
       "    </tr>\n",
       "    <tr>\n",
       "      <th>9380</th>\n",
       "      <td>939</td>\n",
       "      <td>106</td>\n",
       "      <td>3</td>\n",
       "      <td>880262019</td>\n",
       "    </tr>\n",
       "    <tr>\n",
       "      <th>9381</th>\n",
       "      <td>939</td>\n",
       "      <td>121</td>\n",
       "      <td>5</td>\n",
       "      <td>880261373</td>\n",
       "    </tr>\n",
       "    <tr>\n",
       "      <th>9382</th>\n",
       "      <td>939</td>\n",
       "      <td>258</td>\n",
       "      <td>4</td>\n",
       "      <td>880260692</td>\n",
       "    </tr>\n",
       "    <tr>\n",
       "      <th>9383</th>\n",
       "      <td>939</td>\n",
       "      <td>409</td>\n",
       "      <td>4</td>\n",
       "      <td>880261532</td>\n",
       "    </tr>\n",
       "    <tr>\n",
       "      <th>9384</th>\n",
       "      <td>939</td>\n",
       "      <td>476</td>\n",
       "      <td>5</td>\n",
       "      <td>880261974</td>\n",
       "    </tr>\n",
       "    <tr>\n",
       "      <th>9390</th>\n",
       "      <td>940</td>\n",
       "      <td>14</td>\n",
       "      <td>3</td>\n",
       "      <td>885921710</td>\n",
       "    </tr>\n",
       "    <tr>\n",
       "      <th>9391</th>\n",
       "      <td>940</td>\n",
       "      <td>66</td>\n",
       "      <td>4</td>\n",
       "      <td>885922016</td>\n",
       "    </tr>\n",
       "    <tr>\n",
       "      <th>9392</th>\n",
       "      <td>940</td>\n",
       "      <td>193</td>\n",
       "      <td>3</td>\n",
       "      <td>885921893</td>\n",
       "    </tr>\n",
       "    <tr>\n",
       "      <th>9393</th>\n",
       "      <td>940</td>\n",
       "      <td>205</td>\n",
       "      <td>3</td>\n",
       "      <td>885921243</td>\n",
       "    </tr>\n",
       "    <tr>\n",
       "      <th>9394</th>\n",
       "      <td>940</td>\n",
       "      <td>272</td>\n",
       "      <td>4</td>\n",
       "      <td>884801316</td>\n",
       "    </tr>\n",
       "    <tr>\n",
       "      <th>9400</th>\n",
       "      <td>941</td>\n",
       "      <td>7</td>\n",
       "      <td>4</td>\n",
       "      <td>875048952</td>\n",
       "    </tr>\n",
       "    <tr>\n",
       "      <th>9401</th>\n",
       "      <td>941</td>\n",
       "      <td>15</td>\n",
       "      <td>4</td>\n",
       "      <td>875049144</td>\n",
       "    </tr>\n",
       "    <tr>\n",
       "      <th>9402</th>\n",
       "      <td>941</td>\n",
       "      <td>117</td>\n",
       "      <td>5</td>\n",
       "      <td>875048886</td>\n",
       "    </tr>\n",
       "    <tr>\n",
       "      <th>9403</th>\n",
       "      <td>941</td>\n",
       "      <td>124</td>\n",
       "      <td>5</td>\n",
       "      <td>875048996</td>\n",
       "    </tr>\n",
       "    <tr>\n",
       "      <th>9404</th>\n",
       "      <td>941</td>\n",
       "      <td>147</td>\n",
       "      <td>4</td>\n",
       "      <td>875049077</td>\n",
       "    </tr>\n",
       "    <tr>\n",
       "      <th>9410</th>\n",
       "      <td>942</td>\n",
       "      <td>117</td>\n",
       "      <td>4</td>\n",
       "      <td>891282816</td>\n",
       "    </tr>\n",
       "    <tr>\n",
       "      <th>9411</th>\n",
       "      <td>942</td>\n",
       "      <td>200</td>\n",
       "      <td>4</td>\n",
       "      <td>891282840</td>\n",
       "    </tr>\n",
       "    <tr>\n",
       "      <th>9412</th>\n",
       "      <td>942</td>\n",
       "      <td>261</td>\n",
       "      <td>4</td>\n",
       "      <td>891282673</td>\n",
       "    </tr>\n",
       "    <tr>\n",
       "      <th>9413</th>\n",
       "      <td>942</td>\n",
       "      <td>323</td>\n",
       "      <td>3</td>\n",
       "      <td>891282644</td>\n",
       "    </tr>\n",
       "    <tr>\n",
       "      <th>9414</th>\n",
       "      <td>942</td>\n",
       "      <td>423</td>\n",
       "      <td>5</td>\n",
       "      <td>891283095</td>\n",
       "    </tr>\n",
       "    <tr>\n",
       "      <th>9420</th>\n",
       "      <td>943</td>\n",
       "      <td>11</td>\n",
       "      <td>4</td>\n",
       "      <td>888639000</td>\n",
       "    </tr>\n",
       "    <tr>\n",
       "      <th>9421</th>\n",
       "      <td>943</td>\n",
       "      <td>58</td>\n",
       "      <td>4</td>\n",
       "      <td>888639118</td>\n",
       "    </tr>\n",
       "    <tr>\n",
       "      <th>9422</th>\n",
       "      <td>943</td>\n",
       "      <td>111</td>\n",
       "      <td>4</td>\n",
       "      <td>875502192</td>\n",
       "    </tr>\n",
       "    <tr>\n",
       "      <th>9423</th>\n",
       "      <td>943</td>\n",
       "      <td>186</td>\n",
       "      <td>5</td>\n",
       "      <td>888639478</td>\n",
       "    </tr>\n",
       "    <tr>\n",
       "      <th>9424</th>\n",
       "      <td>943</td>\n",
       "      <td>215</td>\n",
       "      <td>5</td>\n",
       "      <td>888639000</td>\n",
       "    </tr>\n",
       "  </tbody>\n",
       "</table>\n",
       "<p>4715 rows × 4 columns</p>\n",
       "</div>"
      ],
      "text/plain": [
       "      user_id  movie_id  rating  unix_timestamp\n",
       "0           1        20       4       887431883\n",
       "1           1        33       4       878542699\n",
       "2           1        61       4       878542420\n",
       "3           1       117       3       874965739\n",
       "4           1       155       2       878542201\n",
       "10          2        13       4       888551922\n",
       "11          2        50       5       888552084\n",
       "12          2       251       5       888552084\n",
       "13          2       280       3       888551441\n",
       "14          2       281       3       888980240\n",
       "20          3       245       1       889237247\n",
       "21          3       294       2       889237224\n",
       "22          3       323       2       889237269\n",
       "23          3       328       5       889237455\n",
       "24          3       331       4       889237455\n",
       "30          4        50       5       892003526\n",
       "31          4       260       4       892004275\n",
       "32          4       264       3       892004275\n",
       "33          4       288       4       892001445\n",
       "34          4       294       5       892004409\n",
       "40          5         1       4       875635748\n",
       "41          5         2       3       875636053\n",
       "42          5        17       4       875636198\n",
       "43          5        98       3       875720691\n",
       "44          5       110       1       875636493\n",
       "50          6        14       5       883599249\n",
       "51          6        23       4       883601365\n",
       "52          6        69       3       883601277\n",
       "53          6        86       3       883603013\n",
       "54          6        98       5       883600680\n",
       "...       ...       ...     ...             ...\n",
       "9370      938       122       1       891357190\n",
       "9371      938       125       3       891356742\n",
       "9372      938       240       2       891356847\n",
       "9373      938       313       5       891349471\n",
       "9374      938       333       4       891356146\n",
       "9380      939       106       3       880262019\n",
       "9381      939       121       5       880261373\n",
       "9382      939       258       4       880260692\n",
       "9383      939       409       4       880261532\n",
       "9384      939       476       5       880261974\n",
       "9390      940        14       3       885921710\n",
       "9391      940        66       4       885922016\n",
       "9392      940       193       3       885921893\n",
       "9393      940       205       3       885921243\n",
       "9394      940       272       4       884801316\n",
       "9400      941         7       4       875048952\n",
       "9401      941        15       4       875049144\n",
       "9402      941       117       5       875048886\n",
       "9403      941       124       5       875048996\n",
       "9404      941       147       4       875049077\n",
       "9410      942       117       4       891282816\n",
       "9411      942       200       4       891282840\n",
       "9412      942       261       4       891282673\n",
       "9413      942       323       3       891282644\n",
       "9414      942       423       5       891283095\n",
       "9420      943        11       4       888639000\n",
       "9421      943        58       4       888639118\n",
       "9422      943       111       4       875502192\n",
       "9423      943       186       5       888639478\n",
       "9424      943       215       5       888639000\n",
       "\n",
       "[4715 rows x 4 columns]"
      ]
     },
     "execution_count": 21,
     "metadata": {},
     "output_type": "execute_result"
    }
   ],
   "source": [
    "ratings_test.groupby(by='user_id').head(5)"
   ]
  },
  {
   "cell_type": "markdown",
   "metadata": {},
   "source": [
    "### Evaluating Recommendation Engines\n",
    "* Recall:\n",
    "What ratio of items that a user likes were actually recommended.\n",
    "If a user likes say 5 items and the recommendation decided to show 3 of them, then the recall is 0.6\n",
    "* Precision\n",
    "Out of all the recommended items, how many the user actually liked?\n",
    "If 5 items were recommended to the user out of which he liked say 4 of them, then precision is 0.8\n"
   ]
  },
  {
   "cell_type": "code",
   "execution_count": 22,
   "metadata": {},
   "outputs": [
    {
     "name": "stdout",
     "output_type": "stream",
     "text": [
      "PROGRESS: Evaluate model M0\n",
      "\n",
      "Precision and recall summary statistics by cutoff\n",
      "+--------+-------------------+-------------------+\n",
      "| cutoff |   mean_precision  |    mean_recall    |\n",
      "+--------+-------------------+-------------------+\n",
      "|   1    |        0.0        |        0.0        |\n",
      "|   2    |        0.0        |        0.0        |\n",
      "|   3    | 0.000353481795688 | 0.000106044538706 |\n",
      "|   4    | 0.000265111346766 | 0.000106044538706 |\n",
      "|   5    | 0.000424178154825 | 0.000212089077413 |\n",
      "|   6    | 0.000353481795688 | 0.000212089077413 |\n",
      "|   7    | 0.000302984396304 | 0.000212089077413 |\n",
      "|   8    | 0.000265111346766 | 0.000212089077413 |\n",
      "|   9    | 0.000235654530458 | 0.000212089077413 |\n",
      "|   10   | 0.000212089077413 | 0.000212089077413 |\n",
      "+--------+-------------------+-------------------+\n",
      "[10 rows x 3 columns]\n",
      "\n",
      "PROGRESS: Evaluate model M1\n",
      "\n",
      "Precision and recall summary statistics by cutoff\n",
      "+--------+----------------+-----------------+\n",
      "| cutoff | mean_precision |   mean_recall   |\n",
      "+--------+----------------+-----------------+\n",
      "|   1    | 0.397667020148 | 0.0397667020148 |\n",
      "|   2    | 0.339872746554 | 0.0679745493107 |\n",
      "|   3    | 0.297985153765 | 0.0893955461294 |\n",
      "|   4    | 0.270413573701 |  0.10816542948  |\n",
      "|   5    | 0.248144220573 |  0.124072110286 |\n",
      "|   6    | 0.229939908095 |  0.137963944857 |\n",
      "|   7    | 0.212695046205 |  0.148886532344 |\n",
      "|   8    | 0.202677624602 |  0.162142099682 |\n",
      "|   9    | 0.191469305997 |  0.172322375398 |\n",
      "|   10   | 0.183563096501 |  0.183563096501 |\n",
      "+--------+----------------+-----------------+\n",
      "[10 rows x 3 columns]\n",
      "\n",
      "Model compare metric: precision_recall\n",
      "Canvas is accessible via web browser at the URL: http://localhost:42135/index.html\n",
      "Opening Canvas in default web browser.\n"
     ]
    }
   ],
   "source": [
    "## let's compare both the mmodels\n",
    "model_performance = graphlab.compare(test_data, [popularity_model, item_sim_model])\n",
    "graphlab.show_comparison(model_performance,[popularity_model, item_sim_model])"
   ]
  },
  {
   "cell_type": "code",
   "execution_count": 23,
   "metadata": {},
   "outputs": [
    {
     "data": {
      "text/plain": [
       "{'precision_recall_by_user': Columns:\n",
       " \tuser_id\tint\n",
       " \tcutoff\tint\n",
       " \tprecision\tfloat\n",
       " \trecall\tfloat\n",
       " \tcount\tint\n",
       " \n",
       " Rows: 4715\n",
       " \n",
       " Data:\n",
       " +---------+--------+----------------+--------+-------+\n",
       " | user_id | cutoff |   precision    | recall | count |\n",
       " +---------+--------+----------------+--------+-------+\n",
       " |    1    |   1    |      0.0       |  0.0   |   10  |\n",
       " |    1    |   2    |      0.5       |  0.1   |   10  |\n",
       " |    1    |   3    | 0.333333333333 |  0.1   |   10  |\n",
       " |    1    |   4    |      0.25      |  0.1   |   10  |\n",
       " |    1    |   5    |      0.2       |  0.1   |   10  |\n",
       " |    2    |   1    |      1.0       |  0.1   |   10  |\n",
       " |    2    |   2    |      0.5       |  0.1   |   10  |\n",
       " |    2    |   3    | 0.333333333333 |  0.1   |   10  |\n",
       " |    2    |   4    |      0.25      |  0.1   |   10  |\n",
       " |    2    |   5    |      0.2       |  0.1   |   10  |\n",
       " +---------+--------+----------------+--------+-------+\n",
       " [4715 rows x 5 columns]\n",
       " Note: Only the head of the SFrame is printed.\n",
       " You can use print_rows(num_rows=m, num_columns=n) to print more rows and columns.,\n",
       " 'precision_recall_overall': Columns:\n",
       " \tcutoff\tint\n",
       " \tprecision\tfloat\n",
       " \trecall\tfloat\n",
       " \n",
       " Rows: 5\n",
       " \n",
       " Data:\n",
       " +--------+----------------+-----------------+\n",
       " | cutoff |   precision    |      recall     |\n",
       " +--------+----------------+-----------------+\n",
       " |   1    | 0.397667020148 | 0.0397667020148 |\n",
       " |   2    | 0.339872746554 | 0.0679745493107 |\n",
       " |   3    | 0.297985153765 | 0.0893955461294 |\n",
       " |   4    | 0.270413573701 |  0.10816542948  |\n",
       " |   5    | 0.248144220573 |  0.124072110286 |\n",
       " +--------+----------------+-----------------+\n",
       " [5 rows x 3 columns]}"
      ]
     },
     "execution_count": 23,
     "metadata": {},
     "output_type": "execute_result"
    }
   ],
   "source": [
    "item_sim_model.evaluate_precision_recall(test_data,cutoffs=[1, 2, 3, 4, 5,])"
   ]
  },
  {
   "cell_type": "code",
   "execution_count": 28,
   "metadata": {},
   "outputs": [
    {
     "data": {
      "text/html": [
       "<pre>Recsys training: model = factorization_recommender</pre>"
      ],
      "text/plain": [
       "Recsys training: model = factorization_recommender"
      ]
     },
     "metadata": {},
     "output_type": "display_data"
    },
    {
     "data": {
      "text/html": [
       "<pre>Preparing data set.</pre>"
      ],
      "text/plain": [
       "Preparing data set."
      ]
     },
     "metadata": {},
     "output_type": "display_data"
    },
    {
     "data": {
      "text/html": [
       "<pre>    Data has 90570 observations with 943 users and 1682 items.</pre>"
      ],
      "text/plain": [
       "    Data has 90570 observations with 943 users and 1682 items."
      ]
     },
     "metadata": {},
     "output_type": "display_data"
    },
    {
     "data": {
      "text/html": [
       "<pre>    Data prepared in: 0.221206s</pre>"
      ],
      "text/plain": [
       "    Data prepared in: 0.221206s"
      ]
     },
     "metadata": {},
     "output_type": "display_data"
    },
    {
     "data": {
      "text/html": [
       "<pre>Training factorization_recommender for recommendations.</pre>"
      ],
      "text/plain": [
       "Training factorization_recommender for recommendations."
      ]
     },
     "metadata": {},
     "output_type": "display_data"
    },
    {
     "data": {
      "text/html": [
       "<pre>+--------------------------------+--------------------------------------------------+----------+</pre>"
      ],
      "text/plain": [
       "+--------------------------------+--------------------------------------------------+----------+"
      ]
     },
     "metadata": {},
     "output_type": "display_data"
    },
    {
     "data": {
      "text/html": [
       "<pre>| Parameter                      | Description                                      | Value    |</pre>"
      ],
      "text/plain": [
       "| Parameter                      | Description                                      | Value    |"
      ]
     },
     "metadata": {},
     "output_type": "display_data"
    },
    {
     "data": {
      "text/html": [
       "<pre>+--------------------------------+--------------------------------------------------+----------+</pre>"
      ],
      "text/plain": [
       "+--------------------------------+--------------------------------------------------+----------+"
      ]
     },
     "metadata": {},
     "output_type": "display_data"
    },
    {
     "data": {
      "text/html": [
       "<pre>| num_factors                    | Factor Dimension                                 | 8        |</pre>"
      ],
      "text/plain": [
       "| num_factors                    | Factor Dimension                                 | 8        |"
      ]
     },
     "metadata": {},
     "output_type": "display_data"
    },
    {
     "data": {
      "text/html": [
       "<pre>| regularization                 | L2 Regularization on Factors                     | 1e-08    |</pre>"
      ],
      "text/plain": [
       "| regularization                 | L2 Regularization on Factors                     | 1e-08    |"
      ]
     },
     "metadata": {},
     "output_type": "display_data"
    },
    {
     "data": {
      "text/html": [
       "<pre>| solver                         | Solver used for training                         | adagrad  |</pre>"
      ],
      "text/plain": [
       "| solver                         | Solver used for training                         | adagrad  |"
      ]
     },
     "metadata": {},
     "output_type": "display_data"
    },
    {
     "data": {
      "text/html": [
       "<pre>| linear_regularization          | L2 Regularization on Linear Coefficients         | 1e-10    |</pre>"
      ],
      "text/plain": [
       "| linear_regularization          | L2 Regularization on Linear Coefficients         | 1e-10    |"
      ]
     },
     "metadata": {},
     "output_type": "display_data"
    },
    {
     "data": {
      "text/html": [
       "<pre>| side_data_factorization        | Assign Factors for Side Data                     | True     |</pre>"
      ],
      "text/plain": [
       "| side_data_factorization        | Assign Factors for Side Data                     | True     |"
      ]
     },
     "metadata": {},
     "output_type": "display_data"
    },
    {
     "data": {
      "text/html": [
       "<pre>| max_iterations                 | Maximum Number of Iterations                     | 500      |</pre>"
      ],
      "text/plain": [
       "| max_iterations                 | Maximum Number of Iterations                     | 500      |"
      ]
     },
     "metadata": {},
     "output_type": "display_data"
    },
    {
     "data": {
      "text/html": [
       "<pre>+--------------------------------+--------------------------------------------------+----------+</pre>"
      ],
      "text/plain": [
       "+--------------------------------+--------------------------------------------------+----------+"
      ]
     },
     "metadata": {},
     "output_type": "display_data"
    },
    {
     "data": {
      "text/html": [
       "<pre>  Optimizing model using SGD; tuning step size.</pre>"
      ],
      "text/plain": [
       "  Optimizing model using SGD; tuning step size."
      ]
     },
     "metadata": {},
     "output_type": "display_data"
    },
    {
     "data": {
      "text/html": [
       "<pre>  Using 11321 / 90570 points for tuning the step size.</pre>"
      ],
      "text/plain": [
       "  Using 11321 / 90570 points for tuning the step size."
      ]
     },
     "metadata": {},
     "output_type": "display_data"
    },
    {
     "data": {
      "text/html": [
       "<pre>+---------+-------------------+------------------------------------------+</pre>"
      ],
      "text/plain": [
       "+---------+-------------------+------------------------------------------+"
      ]
     },
     "metadata": {},
     "output_type": "display_data"
    },
    {
     "data": {
      "text/html": [
       "<pre>| Attempt | Initial Step Size | Estimated Objective Value                |</pre>"
      ],
      "text/plain": [
       "| Attempt | Initial Step Size | Estimated Objective Value                |"
      ]
     },
     "metadata": {},
     "output_type": "display_data"
    },
    {
     "data": {
      "text/html": [
       "<pre>+---------+-------------------+------------------------------------------+</pre>"
      ],
      "text/plain": [
       "+---------+-------------------+------------------------------------------+"
      ]
     },
     "metadata": {},
     "output_type": "display_data"
    },
    {
     "data": {
      "text/html": [
       "<pre>| 0       | 2.27273           | Not Viable                               |</pre>"
      ],
      "text/plain": [
       "| 0       | 2.27273           | Not Viable                               |"
      ]
     },
     "metadata": {},
     "output_type": "display_data"
    },
    {
     "data": {
      "text/html": [
       "<pre>| 1       | 0.568182          | 0.24473                                  |</pre>"
      ],
      "text/plain": [
       "| 1       | 0.568182          | 0.24473                                  |"
      ]
     },
     "metadata": {},
     "output_type": "display_data"
    },
    {
     "data": {
      "text/html": [
       "<pre>| 2       | 0.284091          | 0.722706                                 |</pre>"
      ],
      "text/plain": [
       "| 2       | 0.284091          | 0.722706                                 |"
      ]
     },
     "metadata": {},
     "output_type": "display_data"
    },
    {
     "data": {
      "text/html": [
       "<pre>+---------+-------------------+------------------------------------------+</pre>"
      ],
      "text/plain": [
       "+---------+-------------------+------------------------------------------+"
      ]
     },
     "metadata": {},
     "output_type": "display_data"
    },
    {
     "data": {
      "text/html": [
       "<pre>| Final   | 0.568182          | 0.24473                                  |</pre>"
      ],
      "text/plain": [
       "| Final   | 0.568182          | 0.24473                                  |"
      ]
     },
     "metadata": {},
     "output_type": "display_data"
    },
    {
     "data": {
      "text/html": [
       "<pre>+---------+-------------------+------------------------------------------+</pre>"
      ],
      "text/plain": [
       "+---------+-------------------+------------------------------------------+"
      ]
     },
     "metadata": {},
     "output_type": "display_data"
    },
    {
     "data": {
      "text/html": [
       "<pre>Starting Optimization.</pre>"
      ],
      "text/plain": [
       "Starting Optimization."
      ]
     },
     "metadata": {},
     "output_type": "display_data"
    },
    {
     "data": {
      "text/html": [
       "<pre>+---------+--------------+-------------------+-----------------------+-------------+</pre>"
      ],
      "text/plain": [
       "+---------+--------------+-------------------+-----------------------+-------------+"
      ]
     },
     "metadata": {},
     "output_type": "display_data"
    },
    {
     "data": {
      "text/html": [
       "<pre>| Iter.   | Elapsed Time | Approx. Objective | Approx. Training RMSE | Step Size   |</pre>"
      ],
      "text/plain": [
       "| Iter.   | Elapsed Time | Approx. Objective | Approx. Training RMSE | Step Size   |"
      ]
     },
     "metadata": {},
     "output_type": "display_data"
    },
    {
     "data": {
      "text/html": [
       "<pre>+---------+--------------+-------------------+-----------------------+-------------+</pre>"
      ],
      "text/plain": [
       "+---------+--------------+-------------------+-----------------------+-------------+"
      ]
     },
     "metadata": {},
     "output_type": "display_data"
    },
    {
     "data": {
      "text/html": [
       "<pre>| Initial | 192us        | 1.268             | 1.12605               |             |</pre>"
      ],
      "text/plain": [
       "| Initial | 192us        | 1.268             | 1.12605               |             |"
      ]
     },
     "metadata": {},
     "output_type": "display_data"
    },
    {
     "data": {
      "text/html": [
       "<pre>+---------+--------------+-------------------+-----------------------+-------------+</pre>"
      ],
      "text/plain": [
       "+---------+--------------+-------------------+-----------------------+-------------+"
      ]
     },
     "metadata": {},
     "output_type": "display_data"
    },
    {
     "data": {
      "text/html": [
       "<pre>| 1       | 308.688ms    | 1.44591           | 1.20244               | 0.568182    |</pre>"
      ],
      "text/plain": [
       "| 1       | 308.688ms    | 1.44591           | 1.20244               | 0.568182    |"
      ]
     },
     "metadata": {},
     "output_type": "display_data"
    },
    {
     "data": {
      "text/html": [
       "<pre>| 2       | 560.995ms    | 0.854456          | 0.92434               | 0.568182    |</pre>"
      ],
      "text/plain": [
       "| 2       | 560.995ms    | 0.854456          | 0.92434               | 0.568182    |"
      ]
     },
     "metadata": {},
     "output_type": "display_data"
    },
    {
     "data": {
      "text/html": [
       "<pre>| 3       | 840.461ms    | 0.758376          | 0.870818              | 0.568182    |</pre>"
      ],
      "text/plain": [
       "| 3       | 840.461ms    | 0.758376          | 0.870818              | 0.568182    |"
      ]
     },
     "metadata": {},
     "output_type": "display_data"
    },
    {
     "data": {
      "text/html": [
       "<pre>| 4       | 1.11s        | 0.718905          | 0.847852              | 0.568182    |</pre>"
      ],
      "text/plain": [
       "| 4       | 1.11s        | 0.718905          | 0.847852              | 0.568182    |"
      ]
     },
     "metadata": {},
     "output_type": "display_data"
    },
    {
     "data": {
      "text/html": [
       "<pre>| 5       | 1.41s        | 0.692386          | 0.832065              | 0.568182    |</pre>"
      ],
      "text/plain": [
       "| 5       | 1.41s        | 0.692386          | 0.832065              | 0.568182    |"
      ]
     },
     "metadata": {},
     "output_type": "display_data"
    },
    {
     "data": {
      "text/html": [
       "<pre>| 6       | 1.70s        | 0.673455          | 0.82061               | 0.568182    |</pre>"
      ],
      "text/plain": [
       "| 6       | 1.70s        | 0.673455          | 0.82061               | 0.568182    |"
      ]
     },
     "metadata": {},
     "output_type": "display_data"
    },
    {
     "data": {
      "text/html": [
       "<pre>| 10      | 3.43s        | 0.630926          | 0.794273              | 0.568182    |</pre>"
      ],
      "text/plain": [
       "| 10      | 3.43s        | 0.630926          | 0.794273              | 0.568182    |"
      ]
     },
     "metadata": {},
     "output_type": "display_data"
    },
    {
     "data": {
      "text/html": [
       "<pre>| 11      | 3.85s        | 0.624787          | 0.790399              | 0.568182    |</pre>"
      ],
      "text/plain": [
       "| 11      | 3.85s        | 0.624787          | 0.790399              | 0.568182    |"
      ]
     },
     "metadata": {},
     "output_type": "display_data"
    },
    {
     "data": {
      "text/html": [
       "<pre>| 15      | 5.15s        | 0.603718          | 0.776955              | 0.568182    |</pre>"
      ],
      "text/plain": [
       "| 15      | 5.15s        | 0.603718          | 0.776955              | 0.568182    |"
      ]
     },
     "metadata": {},
     "output_type": "display_data"
    },
    {
     "data": {
      "text/html": [
       "<pre>| 20      | 6.84s        | 0.593868          | 0.770589              | 0.568182    |</pre>"
      ],
      "text/plain": [
       "| 20      | 6.84s        | 0.593868          | 0.770589              | 0.568182    |"
      ]
     },
     "metadata": {},
     "output_type": "display_data"
    },
    {
     "data": {
      "text/html": [
       "<pre>| 25      | 8.04s        | 0.581471          | 0.762502              | 0.568182    |</pre>"
      ],
      "text/plain": [
       "| 25      | 8.04s        | 0.581471          | 0.762502              | 0.568182    |"
      ]
     },
     "metadata": {},
     "output_type": "display_data"
    },
    {
     "data": {
      "text/html": [
       "<pre>| 30      | 9.31s        | 1.91333           | 1.38321               | 0.568182    |</pre>"
      ],
      "text/plain": [
       "| 30      | 9.31s        | 1.91333           | 1.38321               | 0.568182    |"
      ]
     },
     "metadata": {},
     "output_type": "display_data"
    },
    {
     "data": {
      "text/html": [
       "<pre>| 31      | 9.62s        | DIVERGED          | DIVERGED              | 0.568182    |</pre>"
      ],
      "text/plain": [
       "| 31      | 9.62s        | DIVERGED          | DIVERGED              | 0.568182    |"
      ]
     },
     "metadata": {},
     "output_type": "display_data"
    },
    {
     "data": {
      "text/html": [
       "<pre>| RESET   | 9.67s        | 1.26809           | 1.1261                |             |</pre>"
      ],
      "text/plain": [
       "| RESET   | 9.67s        | 1.26809           | 1.1261                |             |"
      ]
     },
     "metadata": {},
     "output_type": "display_data"
    },
    {
     "data": {
      "text/html": [
       "<pre>| 4       | 10.65s       | 0.861122          | 0.927954              | 0.284091    |</pre>"
      ],
      "text/plain": [
       "| 4       | 10.65s       | 0.861122          | 0.927954              | 0.284091    |"
      ]
     },
     "metadata": {},
     "output_type": "display_data"
    },
    {
     "data": {
      "text/html": [
       "<pre>| 9       | 11.80s       | 0.784252          | 0.885566              | 0.284091    |</pre>"
      ],
      "text/plain": [
       "| 9       | 11.80s       | 0.784252          | 0.885566              | 0.284091    |"
      ]
     },
     "metadata": {},
     "output_type": "display_data"
    },
    {
     "data": {
      "text/html": [
       "<pre>| 14      | 13.08s       | 0.751913          | 0.867114              | 0.284091    |</pre>"
      ],
      "text/plain": [
       "| 14      | 13.08s       | 0.751913          | 0.867114              | 0.284091    |"
      ]
     },
     "metadata": {},
     "output_type": "display_data"
    },
    {
     "data": {
      "text/html": [
       "<pre>| 19      | 14.50s       | 0.722711          | 0.850108              | 0.284091    |</pre>"
      ],
      "text/plain": [
       "| 19      | 14.50s       | 0.722711          | 0.850108              | 0.284091    |"
      ]
     },
     "metadata": {},
     "output_type": "display_data"
    },
    {
     "data": {
      "text/html": [
       "<pre>| 21      | 15.06s       | 0.714167          | 0.845068              | 0.284091    |</pre>"
      ],
      "text/plain": [
       "| 21      | 15.06s       | 0.714167          | 0.845068              | 0.284091    |"
      ]
     },
     "metadata": {},
     "output_type": "display_data"
    },
    {
     "data": {
      "text/html": [
       "<pre>| 24      | 15.84s       | 0.701638          | 0.837622              | 0.284091    |</pre>"
      ],
      "text/plain": [
       "| 24      | 15.84s       | 0.701638          | 0.837622              | 0.284091    |"
      ]
     },
     "metadata": {},
     "output_type": "display_data"
    },
    {
     "data": {
      "text/html": [
       "<pre>| 29      | 17.08s       | 0.685617          | 0.828003              | 0.284091    |</pre>"
      ],
      "text/plain": [
       "| 29      | 17.08s       | 0.685617          | 0.828003              | 0.284091    |"
      ]
     },
     "metadata": {},
     "output_type": "display_data"
    },
    {
     "data": {
      "text/html": [
       "<pre>| 34      | 18.36s       | 0.672818          | 0.820237              | 0.284091    |</pre>"
      ],
      "text/plain": [
       "| 34      | 18.36s       | 0.672818          | 0.820237              | 0.284091    |"
      ]
     },
     "metadata": {},
     "output_type": "display_data"
    },
    {
     "data": {
      "text/html": [
       "<pre>| 39      | 19.77s       | 0.665192          | 0.815574              | 0.284091    |</pre>"
      ],
      "text/plain": [
       "| 39      | 19.77s       | 0.665192          | 0.815574              | 0.284091    |"
      ]
     },
     "metadata": {},
     "output_type": "display_data"
    },
    {
     "data": {
      "text/html": [
       "<pre>| 44      | 21.01s       | 0.657975          | 0.811137              | 0.284091    |</pre>"
      ],
      "text/plain": [
       "| 44      | 21.01s       | 0.657975          | 0.811137              | 0.284091    |"
      ]
     },
     "metadata": {},
     "output_type": "display_data"
    },
    {
     "data": {
      "text/html": [
       "<pre>| 49      | 22.28s       | 0.650479          | 0.806503              | 0.284091    |</pre>"
      ],
      "text/plain": [
       "| 49      | 22.28s       | 0.650479          | 0.806503              | 0.284091    |"
      ]
     },
     "metadata": {},
     "output_type": "display_data"
    },
    {
     "data": {
      "text/html": [
       "<pre>| 54      | 23.58s       | 0.643408          | 0.802107              | 0.284091    |</pre>"
      ],
      "text/plain": [
       "| 54      | 23.58s       | 0.643408          | 0.802107              | 0.284091    |"
      ]
     },
     "metadata": {},
     "output_type": "display_data"
    },
    {
     "data": {
      "text/html": [
       "<pre>| 59      | 25.09s       | 0.638064          | 0.798768              | 0.284091    |</pre>"
      ],
      "text/plain": [
       "| 59      | 25.09s       | 0.638064          | 0.798768              | 0.284091    |"
      ]
     },
     "metadata": {},
     "output_type": "display_data"
    },
    {
     "data": {
      "text/html": [
       "<pre>| 64      | 26.65s       | 0.632777          | 0.795451              | 0.284091    |</pre>"
      ],
      "text/plain": [
       "| 64      | 26.65s       | 0.632777          | 0.795451              | 0.284091    |"
      ]
     },
     "metadata": {},
     "output_type": "display_data"
    },
    {
     "data": {
      "text/html": [
       "<pre>| 69      | 28.15s       | 0.629474          | 0.793372              | 0.284091    |</pre>"
      ],
      "text/plain": [
       "| 69      | 28.15s       | 0.629474          | 0.793372              | 0.284091    |"
      ]
     },
     "metadata": {},
     "output_type": "display_data"
    },
    {
     "data": {
      "text/html": [
       "<pre>| 71      | 28.74s       | 0.629229          | 0.793218              | 0.284091    |</pre>"
      ],
      "text/plain": [
       "| 71      | 28.74s       | 0.629229          | 0.793218              | 0.284091    |"
      ]
     },
     "metadata": {},
     "output_type": "display_data"
    },
    {
     "data": {
      "text/html": [
       "<pre>| 74      | 29.63s       | 0.629132          | 0.793156              | 0.284091    |</pre>"
      ],
      "text/plain": [
       "| 74      | 29.63s       | 0.629132          | 0.793156              | 0.284091    |"
      ]
     },
     "metadata": {},
     "output_type": "display_data"
    },
    {
     "data": {
      "text/html": [
       "<pre>| 79      | 31.08s       | 0.622371          | 0.788882              | 0.284091    |</pre>"
      ],
      "text/plain": [
       "| 79      | 31.08s       | 0.622371          | 0.788882              | 0.284091    |"
      ]
     },
     "metadata": {},
     "output_type": "display_data"
    },
    {
     "data": {
      "text/html": [
       "<pre>| 84      | 32.35s       | 0.622599          | 0.789026              | 0.284091    |</pre>"
      ],
      "text/plain": [
       "| 84      | 32.35s       | 0.622599          | 0.789026              | 0.284091    |"
      ]
     },
     "metadata": {},
     "output_type": "display_data"
    },
    {
     "data": {
      "text/html": [
       "<pre>| 89      | 34.18s       | 0.61635           | 0.785056              | 0.284091    |</pre>"
      ],
      "text/plain": [
       "| 89      | 34.18s       | 0.61635           | 0.785056              | 0.284091    |"
      ]
     },
     "metadata": {},
     "output_type": "display_data"
    },
    {
     "data": {
      "text/html": [
       "<pre>| 94      | 35.48s       | 0.614828          | 0.784086              | 0.284091    |</pre>"
      ],
      "text/plain": [
       "| 94      | 35.48s       | 0.614828          | 0.784086              | 0.284091    |"
      ]
     },
     "metadata": {},
     "output_type": "display_data"
    },
    {
     "data": {
      "text/html": [
       "<pre>| 99      | 36.76s       | 0.612736          | 0.78275               | 0.284091    |</pre>"
      ],
      "text/plain": [
       "| 99      | 36.76s       | 0.612736          | 0.78275               | 0.284091    |"
      ]
     },
     "metadata": {},
     "output_type": "display_data"
    },
    {
     "data": {
      "text/html": [
       "<pre>| 104     | 38.02s       | 0.613237          | 0.78307               | 0.284091    |</pre>"
      ],
      "text/plain": [
       "| 104     | 38.02s       | 0.613237          | 0.78307               | 0.284091    |"
      ]
     },
     "metadata": {},
     "output_type": "display_data"
    },
    {
     "data": {
      "text/html": [
       "<pre>| 109     | 39.31s       | 0.610382          | 0.781245              | 0.284091    |</pre>"
      ],
      "text/plain": [
       "| 109     | 39.31s       | 0.610382          | 0.781245              | 0.284091    |"
      ]
     },
     "metadata": {},
     "output_type": "display_data"
    },
    {
     "data": {
      "text/html": [
       "<pre>| 114     | 40.56s       | 0.611494          | 0.781956              | 0.284091    |</pre>"
      ],
      "text/plain": [
       "| 114     | 40.56s       | 0.611494          | 0.781956              | 0.284091    |"
      ]
     },
     "metadata": {},
     "output_type": "display_data"
    },
    {
     "data": {
      "text/html": [
       "<pre>| 119     | 41.81s       | 0.607959          | 0.779692              | 0.284091    |</pre>"
      ],
      "text/plain": [
       "| 119     | 41.81s       | 0.607959          | 0.779692              | 0.284091    |"
      ]
     },
     "metadata": {},
     "output_type": "display_data"
    },
    {
     "data": {
      "text/html": [
       "<pre>| 124     | 42.99s       | 0.607048          | 0.779107              | 0.284091    |</pre>"
      ],
      "text/plain": [
       "| 124     | 42.99s       | 0.607048          | 0.779107              | 0.284091    |"
      ]
     },
     "metadata": {},
     "output_type": "display_data"
    },
    {
     "data": {
      "text/html": [
       "<pre>| 129     | 44.32s       | 0.613033          | 0.782938              | 0.284091    |</pre>"
      ],
      "text/plain": [
       "| 129     | 44.32s       | 0.613033          | 0.782938              | 0.284091    |"
      ]
     },
     "metadata": {},
     "output_type": "display_data"
    },
    {
     "data": {
      "text/html": [
       "<pre>| 134     | 45.54s       | 0.607506          | 0.7794                | 0.284091    |</pre>"
      ],
      "text/plain": [
       "| 134     | 45.54s       | 0.607506          | 0.7794                | 0.284091    |"
      ]
     },
     "metadata": {},
     "output_type": "display_data"
    },
    {
     "data": {
      "text/html": [
       "<pre>| 139     | 46.77s       | 0.606752          | 0.778916              | 0.284091    |</pre>"
      ],
      "text/plain": [
       "| 139     | 46.77s       | 0.606752          | 0.778916              | 0.284091    |"
      ]
     },
     "metadata": {},
     "output_type": "display_data"
    },
    {
     "data": {
      "text/html": [
       "<pre>| 144     | 48.00s       | 0.60793           | 0.779672              | 0.284091    |</pre>"
      ],
      "text/plain": [
       "| 144     | 48.00s       | 0.60793           | 0.779672              | 0.284091    |"
      ]
     },
     "metadata": {},
     "output_type": "display_data"
    },
    {
     "data": {
      "text/html": [
       "<pre>| 149     | 49.24s       | 0.624384          | 0.790154              | 0.284091    |</pre>"
      ],
      "text/plain": [
       "| 149     | 49.24s       | 0.624384          | 0.790154              | 0.284091    |"
      ]
     },
     "metadata": {},
     "output_type": "display_data"
    },
    {
     "data": {
      "text/html": [
       "<pre>| 154     | 50.43s       | 0.675829          | 0.822063              | 0.284091    |</pre>"
      ],
      "text/plain": [
       "| 154     | 50.43s       | 0.675829          | 0.822063              | 0.284091    |"
      ]
     },
     "metadata": {},
     "output_type": "display_data"
    },
    {
     "data": {
      "text/html": [
       "<pre>| 159     | 51.71s       | 1.14608           | 1.07053               | 0.284091    |</pre>"
      ],
      "text/plain": [
       "| 159     | 51.71s       | 1.14608           | 1.07053               | 0.284091    |"
      ]
     },
     "metadata": {},
     "output_type": "display_data"
    },
    {
     "data": {
      "text/html": [
       "<pre>| 161     | 52.26s       | DIVERGED          | DIVERGED              | 0.284091    |</pre>"
      ],
      "text/plain": [
       "| 161     | 52.26s       | DIVERGED          | DIVERGED              | 0.284091    |"
      ]
     },
     "metadata": {},
     "output_type": "display_data"
    },
    {
     "data": {
      "text/html": [
       "<pre>| RESET   | 52.31s       | 1.26797           | 1.12604               |             |</pre>"
      ],
      "text/plain": [
       "| RESET   | 52.31s       | 1.26797           | 1.12604               |             |"
      ]
     },
     "metadata": {},
     "output_type": "display_data"
    },
    {
     "data": {
      "text/html": [
       "<pre>| 3       | 53.09s       | 0.856991          | 0.925734              | 0.142045    |</pre>"
      ],
      "text/plain": [
       "| 3       | 53.09s       | 0.856991          | 0.925734              | 0.142045    |"
      ]
     },
     "metadata": {},
     "output_type": "display_data"
    },
    {
     "data": {
      "text/html": [
       "<pre>| 8       | 54.32s       | 0.816307          | 0.903493              | 0.142045    |</pre>"
      ],
      "text/plain": [
       "| 8       | 54.32s       | 0.816307          | 0.903493              | 0.142045    |"
      ]
     },
     "metadata": {},
     "output_type": "display_data"
    },
    {
     "data": {
      "text/html": [
       "<pre>| 13      | 55.60s       | 0.797667          | 0.893118              | 0.142045    |</pre>"
      ],
      "text/plain": [
       "| 13      | 55.60s       | 0.797667          | 0.893118              | 0.142045    |"
      ]
     },
     "metadata": {},
     "output_type": "display_data"
    },
    {
     "data": {
      "text/html": [
       "<pre>| 18      | 57.14s       | 0.782601          | 0.884643              | 0.142045    |</pre>"
      ],
      "text/plain": [
       "| 18      | 57.14s       | 0.782601          | 0.884643              | 0.142045    |"
      ]
     },
     "metadata": {},
     "output_type": "display_data"
    },
    {
     "data": {
      "text/html": [
       "<pre>| 23      | 58.55s       | 0.77029           | 0.877657              | 0.142045    |</pre>"
      ],
      "text/plain": [
       "| 23      | 58.55s       | 0.77029           | 0.877657              | 0.142045    |"
      ]
     },
     "metadata": {},
     "output_type": "display_data"
    },
    {
     "data": {
      "text/html": [
       "<pre>| 28      | 59.76s       | 0.760671          | 0.872159              | 0.142045    |</pre>"
      ],
      "text/plain": [
       "| 28      | 59.76s       | 0.760671          | 0.872159              | 0.142045    |"
      ]
     },
     "metadata": {},
     "output_type": "display_data"
    },
    {
     "data": {
      "text/html": [
       "<pre>| 33      | 1m 1s        | 0.752459          | 0.867439              | 0.142045    |</pre>"
      ],
      "text/plain": [
       "| 33      | 1m 1s        | 0.752459          | 0.867439              | 0.142045    |"
      ]
     },
     "metadata": {},
     "output_type": "display_data"
    },
    {
     "data": {
      "text/html": [
       "<pre>| 38      | 1m 2s        | 0.746703          | 0.864115              | 0.142045    |</pre>"
      ],
      "text/plain": [
       "| 38      | 1m 2s        | 0.746703          | 0.864115              | 0.142045    |"
      ]
     },
     "metadata": {},
     "output_type": "display_data"
    },
    {
     "data": {
      "text/html": [
       "<pre>| 43      | 1m 3s        | 0.740858          | 0.860725              | 0.142045    |</pre>"
      ],
      "text/plain": [
       "| 43      | 1m 3s        | 0.740858          | 0.860725              | 0.142045    |"
      ]
     },
     "metadata": {},
     "output_type": "display_data"
    },
    {
     "data": {
      "text/html": [
       "<pre>| 48      | 1m 4s        | 0.735806          | 0.857786              | 0.142045    |</pre>"
      ],
      "text/plain": [
       "| 48      | 1m 4s        | 0.735806          | 0.857786              | 0.142045    |"
      ]
     },
     "metadata": {},
     "output_type": "display_data"
    },
    {
     "data": {
      "text/html": [
       "<pre>| 53      | 1m 6s        | 0.730705          | 0.854807              | 0.142045    |</pre>"
      ],
      "text/plain": [
       "| 53      | 1m 6s        | 0.730705          | 0.854807              | 0.142045    |"
      ]
     },
     "metadata": {},
     "output_type": "display_data"
    },
    {
     "data": {
      "text/html": [
       "<pre>| 58      | 1m 7s        | 0.726568          | 0.852383              | 0.142045    |</pre>"
      ],
      "text/plain": [
       "| 58      | 1m 7s        | 0.726568          | 0.852383              | 0.142045    |"
      ]
     },
     "metadata": {},
     "output_type": "display_data"
    },
    {
     "data": {
      "text/html": [
       "<pre>| 63      | 1m 9s        | 0.722418          | 0.849945              | 0.142045    |</pre>"
      ],
      "text/plain": [
       "| 63      | 1m 9s        | 0.722418          | 0.849945              | 0.142045    |"
      ]
     },
     "metadata": {},
     "output_type": "display_data"
    },
    {
     "data": {
      "text/html": [
       "<pre>| 68      | 1m 10s       | 0.718455          | 0.847611              | 0.142045    |</pre>"
      ],
      "text/plain": [
       "| 68      | 1m 10s       | 0.718455          | 0.847611              | 0.142045    |"
      ]
     },
     "metadata": {},
     "output_type": "display_data"
    },
    {
     "data": {
      "text/html": [
       "<pre>| 73      | 1m 12s       | 0.713827          | 0.844876              | 0.142045    |</pre>"
      ],
      "text/plain": [
       "| 73      | 1m 12s       | 0.713827          | 0.844876              | 0.142045    |"
      ]
     },
     "metadata": {},
     "output_type": "display_data"
    },
    {
     "data": {
      "text/html": [
       "<pre>| 78      | 1m 13s       | 0.71023           | 0.842745              | 0.142045    |</pre>"
      ],
      "text/plain": [
       "| 78      | 1m 13s       | 0.71023           | 0.842745              | 0.142045    |"
      ]
     },
     "metadata": {},
     "output_type": "display_data"
    },
    {
     "data": {
      "text/html": [
       "<pre>| 83      | 1m 15s       | 0.706146          | 0.840318              | 0.142045    |</pre>"
      ],
      "text/plain": [
       "| 83      | 1m 15s       | 0.706146          | 0.840318              | 0.142045    |"
      ]
     },
     "metadata": {},
     "output_type": "display_data"
    },
    {
     "data": {
      "text/html": [
       "<pre>| 88      | 1m 16s       | 0.702785          | 0.838316              | 0.142045    |</pre>"
      ],
      "text/plain": [
       "| 88      | 1m 16s       | 0.702785          | 0.838316              | 0.142045    |"
      ]
     },
     "metadata": {},
     "output_type": "display_data"
    },
    {
     "data": {
      "text/html": [
       "<pre>| 93      | 1m 17s       | 0.69937           | 0.836276              | 0.142045    |</pre>"
      ],
      "text/plain": [
       "| 93      | 1m 17s       | 0.69937           | 0.836276              | 0.142045    |"
      ]
     },
     "metadata": {},
     "output_type": "display_data"
    },
    {
     "data": {
      "text/html": [
       "<pre>| 98      | 1m 19s       | 0.695627          | 0.834035              | 0.142045    |</pre>"
      ],
      "text/plain": [
       "| 98      | 1m 19s       | 0.695627          | 0.834035              | 0.142045    |"
      ]
     },
     "metadata": {},
     "output_type": "display_data"
    },
    {
     "data": {
      "text/html": [
       "<pre>| 103     | 1m 20s       | 0.692691          | 0.832273              | 0.142045    |</pre>"
      ],
      "text/plain": [
       "| 103     | 1m 20s       | 0.692691          | 0.832273              | 0.142045    |"
      ]
     },
     "metadata": {},
     "output_type": "display_data"
    },
    {
     "data": {
      "text/html": [
       "<pre>| 108     | 1m 22s       | 0.691249          | 0.831406              | 0.142045    |</pre>"
      ],
      "text/plain": [
       "| 108     | 1m 22s       | 0.691249          | 0.831406              | 0.142045    |"
      ]
     },
     "metadata": {},
     "output_type": "display_data"
    },
    {
     "data": {
      "text/html": [
       "<pre>| 113     | 1m 23s       | 0.685879          | 0.82817               | 0.142045    |</pre>"
      ],
      "text/plain": [
       "| 113     | 1m 23s       | 0.685879          | 0.82817               | 0.142045    |"
      ]
     },
     "metadata": {},
     "output_type": "display_data"
    },
    {
     "data": {
      "text/html": [
       "<pre>| 118     | 1m 24s       | 0.682772          | 0.826292              | 0.142045    |</pre>"
      ],
      "text/plain": [
       "| 118     | 1m 24s       | 0.682772          | 0.826292              | 0.142045    |"
      ]
     },
     "metadata": {},
     "output_type": "display_data"
    },
    {
     "data": {
      "text/html": [
       "<pre>| 123     | 1m 26s       | 0.680138          | 0.824697              | 0.142045    |</pre>"
      ],
      "text/plain": [
       "| 123     | 1m 26s       | 0.680138          | 0.824697              | 0.142045    |"
      ]
     },
     "metadata": {},
     "output_type": "display_data"
    },
    {
     "data": {
      "text/html": [
       "<pre>| 128     | 1m 27s       | 0.67757           | 0.823138              | 0.142045    |</pre>"
      ],
      "text/plain": [
       "| 128     | 1m 27s       | 0.67757           | 0.823138              | 0.142045    |"
      ]
     },
     "metadata": {},
     "output_type": "display_data"
    },
    {
     "data": {
      "text/html": [
       "<pre>| 133     | 1m 28s       | 0.673982          | 0.820956              | 0.142045    |</pre>"
      ],
      "text/plain": [
       "| 133     | 1m 28s       | 0.673982          | 0.820956              | 0.142045    |"
      ]
     },
     "metadata": {},
     "output_type": "display_data"
    },
    {
     "data": {
      "text/html": [
       "<pre>| 138     | 1m 29s       | 0.672715          | 0.820183              | 0.142045    |</pre>"
      ],
      "text/plain": [
       "| 138     | 1m 29s       | 0.672715          | 0.820183              | 0.142045    |"
      ]
     },
     "metadata": {},
     "output_type": "display_data"
    },
    {
     "data": {
      "text/html": [
       "<pre>| 143     | 1m 31s       | 0.668149          | 0.817395              | 0.142045    |</pre>"
      ],
      "text/plain": [
       "| 143     | 1m 31s       | 0.668149          | 0.817395              | 0.142045    |"
      ]
     },
     "metadata": {},
     "output_type": "display_data"
    },
    {
     "data": {
      "text/html": [
       "<pre>| 148     | 1m 32s       | 0.665414          | 0.815721              | 0.142045    |</pre>"
      ],
      "text/plain": [
       "| 148     | 1m 32s       | 0.665414          | 0.815721              | 0.142045    |"
      ]
     },
     "metadata": {},
     "output_type": "display_data"
    },
    {
     "data": {
      "text/html": [
       "<pre>| 153     | 1m 33s       | 0.662837          | 0.814139              | 0.142045    |</pre>"
      ],
      "text/plain": [
       "| 153     | 1m 33s       | 0.662837          | 0.814139              | 0.142045    |"
      ]
     },
     "metadata": {},
     "output_type": "display_data"
    },
    {
     "data": {
      "text/html": [
       "<pre>| 158     | 1m 35s       | 0.659847          | 0.812301              | 0.142045    |</pre>"
      ],
      "text/plain": [
       "| 158     | 1m 35s       | 0.659847          | 0.812301              | 0.142045    |"
      ]
     },
     "metadata": {},
     "output_type": "display_data"
    },
    {
     "data": {
      "text/html": [
       "<pre>| 163     | 1m 36s       | 0.657173          | 0.810653              | 0.142045    |</pre>"
      ],
      "text/plain": [
       "| 163     | 1m 36s       | 0.657173          | 0.810653              | 0.142045    |"
      ]
     },
     "metadata": {},
     "output_type": "display_data"
    },
    {
     "data": {
      "text/html": [
       "<pre>| 168     | 1m 38s       | 0.654554          | 0.809036              | 0.142045    |</pre>"
      ],
      "text/plain": [
       "| 168     | 1m 38s       | 0.654554          | 0.809036              | 0.142045    |"
      ]
     },
     "metadata": {},
     "output_type": "display_data"
    },
    {
     "data": {
      "text/html": [
       "<pre>| 173     | 1m 39s       | 0.651235          | 0.806982              | 0.142045    |</pre>"
      ],
      "text/plain": [
       "| 173     | 1m 39s       | 0.651235          | 0.806982              | 0.142045    |"
      ]
     },
     "metadata": {},
     "output_type": "display_data"
    },
    {
     "data": {
      "text/html": [
       "<pre>| 178     | 1m 40s       | 0.649209          | 0.805726              | 0.142045    |</pre>"
      ],
      "text/plain": [
       "| 178     | 1m 40s       | 0.649209          | 0.805726              | 0.142045    |"
      ]
     },
     "metadata": {},
     "output_type": "display_data"
    },
    {
     "data": {
      "text/html": [
       "<pre>| 183     | 1m 42s       | 0.647191          | 0.804472              | 0.142045    |</pre>"
      ],
      "text/plain": [
       "| 183     | 1m 42s       | 0.647191          | 0.804472              | 0.142045    |"
      ]
     },
     "metadata": {},
     "output_type": "display_data"
    },
    {
     "data": {
      "text/html": [
       "<pre>| 188     | 1m 43s       | 0.644389          | 0.802729              | 0.142045    |</pre>"
      ],
      "text/plain": [
       "| 188     | 1m 43s       | 0.644389          | 0.802729              | 0.142045    |"
      ]
     },
     "metadata": {},
     "output_type": "display_data"
    },
    {
     "data": {
      "text/html": [
       "<pre>| 193     | 1m 44s       | 0.641344          | 0.800829              | 0.142045    |</pre>"
      ],
      "text/plain": [
       "| 193     | 1m 44s       | 0.641344          | 0.800829              | 0.142045    |"
      ]
     },
     "metadata": {},
     "output_type": "display_data"
    },
    {
     "data": {
      "text/html": [
       "<pre>| 198     | 1m 46s       | 0.639616          | 0.79975               | 0.142045    |</pre>"
      ],
      "text/plain": [
       "| 198     | 1m 46s       | 0.639616          | 0.79975               | 0.142045    |"
      ]
     },
     "metadata": {},
     "output_type": "display_data"
    },
    {
     "data": {
      "text/html": [
       "<pre>| 203     | 1m 47s       | 0.63801           | 0.798745              | 0.142045    |</pre>"
      ],
      "text/plain": [
       "| 203     | 1m 47s       | 0.63801           | 0.798745              | 0.142045    |"
      ]
     },
     "metadata": {},
     "output_type": "display_data"
    },
    {
     "data": {
      "text/html": [
       "<pre>| 208     | 1m 49s       | 0.637445          | 0.798391              | 0.142045    |</pre>"
      ],
      "text/plain": [
       "| 208     | 1m 49s       | 0.637445          | 0.798391              | 0.142045    |"
      ]
     },
     "metadata": {},
     "output_type": "display_data"
    },
    {
     "data": {
      "text/html": [
       "<pre>| 213     | 1m 50s       | 0.633267          | 0.79577               | 0.142045    |</pre>"
      ],
      "text/plain": [
       "| 213     | 1m 50s       | 0.633267          | 0.79577               | 0.142045    |"
      ]
     },
     "metadata": {},
     "output_type": "display_data"
    },
    {
     "data": {
      "text/html": [
       "<pre>| 218     | 1m 51s       | 0.631712          | 0.794792              | 0.142045    |</pre>"
      ],
      "text/plain": [
       "| 218     | 1m 51s       | 0.631712          | 0.794792              | 0.142045    |"
      ]
     },
     "metadata": {},
     "output_type": "display_data"
    },
    {
     "data": {
      "text/html": [
       "<pre>| 223     | 1m 53s       | 0.630989          | 0.794337              | 0.142045    |</pre>"
      ],
      "text/plain": [
       "| 223     | 1m 53s       | 0.630989          | 0.794337              | 0.142045    |"
      ]
     },
     "metadata": {},
     "output_type": "display_data"
    },
    {
     "data": {
      "text/html": [
       "<pre>| 228     | 1m 54s       | 0.629224          | 0.793225              | 0.142045    |</pre>"
      ],
      "text/plain": [
       "| 228     | 1m 54s       | 0.629224          | 0.793225              | 0.142045    |"
      ]
     },
     "metadata": {},
     "output_type": "display_data"
    },
    {
     "data": {
      "text/html": [
       "<pre>| 233     | 1m 56s       | 0.626148          | 0.791284              | 0.142045    |</pre>"
      ],
      "text/plain": [
       "| 233     | 1m 56s       | 0.626148          | 0.791284              | 0.142045    |"
      ]
     },
     "metadata": {},
     "output_type": "display_data"
    },
    {
     "data": {
      "text/html": [
       "<pre>| 238     | 1m 57s       | 0.623942          | 0.789888              | 0.142045    |</pre>"
      ],
      "text/plain": [
       "| 238     | 1m 57s       | 0.623942          | 0.789888              | 0.142045    |"
      ]
     },
     "metadata": {},
     "output_type": "display_data"
    },
    {
     "data": {
      "text/html": [
       "<pre>| 243     | 1m 58s       | 0.622224          | 0.7888                | 0.142045    |</pre>"
      ],
      "text/plain": [
       "| 243     | 1m 58s       | 0.622224          | 0.7888                | 0.142045    |"
      ]
     },
     "metadata": {},
     "output_type": "display_data"
    },
    {
     "data": {
      "text/html": [
       "<pre>| 248     | 1m 59s       | 0.620386          | 0.787634              | 0.142045    |</pre>"
      ],
      "text/plain": [
       "| 248     | 1m 59s       | 0.620386          | 0.787634              | 0.142045    |"
      ]
     },
     "metadata": {},
     "output_type": "display_data"
    },
    {
     "data": {
      "text/html": [
       "<pre>| 253     | 2m 1s        | 0.618501          | 0.786436              | 0.142045    |</pre>"
      ],
      "text/plain": [
       "| 253     | 2m 1s        | 0.618501          | 0.786436              | 0.142045    |"
      ]
     },
     "metadata": {},
     "output_type": "display_data"
    },
    {
     "data": {
      "text/html": [
       "<pre>| 258     | 2m 2s        | 0.61708           | 0.785533              | 0.142045    |</pre>"
      ],
      "text/plain": [
       "| 258     | 2m 2s        | 0.61708           | 0.785533              | 0.142045    |"
      ]
     },
     "metadata": {},
     "output_type": "display_data"
    },
    {
     "data": {
      "text/html": [
       "<pre>| 263     | 2m 3s        | 0.616416          | 0.78511               | 0.142045    |</pre>"
      ],
      "text/plain": [
       "| 263     | 2m 3s        | 0.616416          | 0.78511               | 0.142045    |"
      ]
     },
     "metadata": {},
     "output_type": "display_data"
    },
    {
     "data": {
      "text/html": [
       "<pre>| 268     | 2m 5s        | 0.614429          | 0.783843              | 0.142045    |</pre>"
      ],
      "text/plain": [
       "| 268     | 2m 5s        | 0.614429          | 0.783843              | 0.142045    |"
      ]
     },
     "metadata": {},
     "output_type": "display_data"
    },
    {
     "data": {
      "text/html": [
       "<pre>| 273     | 2m 7s        | 0.612954          | 0.782901              | 0.142045    |</pre>"
      ],
      "text/plain": [
       "| 273     | 2m 7s        | 0.612954          | 0.782901              | 0.142045    |"
      ]
     },
     "metadata": {},
     "output_type": "display_data"
    },
    {
     "data": {
      "text/html": [
       "<pre>| 278     | 2m 8s        | 0.611168          | 0.78176               | 0.142045    |</pre>"
      ],
      "text/plain": [
       "| 278     | 2m 8s        | 0.611168          | 0.78176               | 0.142045    |"
      ]
     },
     "metadata": {},
     "output_type": "display_data"
    },
    {
     "data": {
      "text/html": [
       "<pre>| 283     | 2m 9s        | 0.610193          | 0.781136              | 0.142045    |</pre>"
      ],
      "text/plain": [
       "| 283     | 2m 9s        | 0.610193          | 0.781136              | 0.142045    |"
      ]
     },
     "metadata": {},
     "output_type": "display_data"
    },
    {
     "data": {
      "text/html": [
       "<pre>| 288     | 2m 10s       | 0.610251          | 0.781173              | 0.142045    |</pre>"
      ],
      "text/plain": [
       "| 288     | 2m 10s       | 0.610251          | 0.781173              | 0.142045    |"
      ]
     },
     "metadata": {},
     "output_type": "display_data"
    },
    {
     "data": {
      "text/html": [
       "<pre>| 293     | 2m 12s       | 0.609245          | 0.780529              | 0.142045    |</pre>"
      ],
      "text/plain": [
       "| 293     | 2m 12s       | 0.609245          | 0.780529              | 0.142045    |"
      ]
     },
     "metadata": {},
     "output_type": "display_data"
    },
    {
     "data": {
      "text/html": [
       "<pre>| 298     | 2m 13s       | 0.608103          | 0.779797              | 0.142045    |</pre>"
      ],
      "text/plain": [
       "| 298     | 2m 13s       | 0.608103          | 0.779797              | 0.142045    |"
      ]
     },
     "metadata": {},
     "output_type": "display_data"
    },
    {
     "data": {
      "text/html": [
       "<pre>| 303     | 2m 14s       | 0.606908          | 0.779031              | 0.142045    |</pre>"
      ],
      "text/plain": [
       "| 303     | 2m 14s       | 0.606908          | 0.779031              | 0.142045    |"
      ]
     },
     "metadata": {},
     "output_type": "display_data"
    },
    {
     "data": {
      "text/html": [
       "<pre>| 308     | 2m 16s       | 0.605711          | 0.778261              | 0.142045    |</pre>"
      ],
      "text/plain": [
       "| 308     | 2m 16s       | 0.605711          | 0.778261              | 0.142045    |"
      ]
     },
     "metadata": {},
     "output_type": "display_data"
    },
    {
     "data": {
      "text/html": [
       "<pre>| 311     | 2m 17s       | 0.605772          | 0.7783                | 0.142045    |</pre>"
      ],
      "text/plain": [
       "| 311     | 2m 17s       | 0.605772          | 0.7783                | 0.142045    |"
      ]
     },
     "metadata": {},
     "output_type": "display_data"
    },
    {
     "data": {
      "text/html": [
       "<pre>| 313     | 2m 17s       | 0.604108          | 0.777231              | 0.142045    |</pre>"
      ],
      "text/plain": [
       "| 313     | 2m 17s       | 0.604108          | 0.777231              | 0.142045    |"
      ]
     },
     "metadata": {},
     "output_type": "display_data"
    },
    {
     "data": {
      "text/html": [
       "<pre>+---------+--------------+-------------------+-----------------------+-------------+</pre>"
      ],
      "text/plain": [
       "+---------+--------------+-------------------+-----------------------+-------------+"
      ]
     },
     "metadata": {},
     "output_type": "display_data"
    },
    {
     "data": {
      "text/html": [
       "<pre>Optimization Complete: Maximum number of passes through the data reached (hard limit).</pre>"
      ],
      "text/plain": [
       "Optimization Complete: Maximum number of passes through the data reached (hard limit)."
      ]
     },
     "metadata": {},
     "output_type": "display_data"
    },
    {
     "data": {
      "text/html": [
       "<pre>Computing final objective value and training RMSE.</pre>"
      ],
      "text/plain": [
       "Computing final objective value and training RMSE."
      ]
     },
     "metadata": {},
     "output_type": "display_data"
    },
    {
     "data": {
      "text/html": [
       "<pre>       Final objective value: 0.599581</pre>"
      ],
      "text/plain": [
       "       Final objective value: 0.599581"
      ]
     },
     "metadata": {},
     "output_type": "display_data"
    },
    {
     "data": {
      "text/html": [
       "<pre>       Final training RMSE: 0.774313</pre>"
      ],
      "text/plain": [
       "       Final training RMSE: 0.774313"
      ]
     },
     "metadata": {},
     "output_type": "display_data"
    },
    {
     "name": "stdout",
     "output_type": "stream",
     "text": [
      "+---------+----------+----------------+------+\n",
      "| user_id | movie_id |     score      | rank |\n",
      "+---------+----------+----------------+------+\n",
      "|    1    |   423    | 0.983670106371 |  1   |\n",
      "|    1    |   202    | 0.943675901371 |  2   |\n",
      "|    1    |   655    | 0.803317898785 |  3   |\n",
      "|    1    |   403    | 0.776517818675 |  4   |\n",
      "|    1    |   568    | 0.752243658969 |  5   |\n",
      "|    2    |    50    | 1.12562584877  |  1   |\n",
      "|    2    |   181    | 1.06517731685  |  2   |\n",
      "|    2    |    7     | 0.975477427244 |  3   |\n",
      "|    2    |   121    | 0.922513024165 |  4   |\n",
      "|    2    |    98    | 0.856430360904 |  5   |\n",
      "|    3    |   313    | 0.635376662016 |  1   |\n",
      "|    3    |   328    | 0.603288030083 |  2   |\n",
      "|    3    |   315    | 0.542258712378 |  3   |\n",
      "|    3    |   331    | 0.535507185893 |  4   |\n",
      "|    3    |   332    | 0.531669611281 |  5   |\n",
      "|    4    |    50    | 1.13114770821  |  1   |\n",
      "|    4    |   288    | 1.04871511459  |  2   |\n",
      "|    4    |   181    | 0.950599938631 |  3   |\n",
      "|    4    |    7     | 0.941777880703 |  4   |\n",
      "|    4    |   302    | 0.913902146476 |  5   |\n",
      "|    5    |   195    | 1.04468541543  |  1   |\n",
      "|    5    |   202    | 0.943174810482 |  2   |\n",
      "|    5    |    82    | 0.87814684456  |  3   |\n",
      "|    5    |    56    | 0.826666217501 |  4   |\n",
      "|    5    |    96    | 0.798805341937 |  5   |\n",
      "+---------+----------+----------------+------+\n",
      "[25 rows x 4 columns]\n",
      "\n"
     ]
    }
   ],
   "source": [
    "#Train Model\n",
    "fact_model = graphlab.recommender.factorization_recommender.create(train_data, \n",
    "                 user_id='user_id', item_id='movie_id', target='rating', item_data=item_data,max_iterations=500)\n",
    "\n",
    "#Make Recommendations:\n",
    "fact_recomm = item_sim_model.recommend(users=range(1,6),k=5)\n",
    "fact_recomm.print_rows(num_rows=50)"
   ]
  },
  {
   "cell_type": "code",
   "execution_count": 29,
   "metadata": {},
   "outputs": [
    {
     "data": {
      "text/plain": [
       "{'precision_recall_by_user': Columns:\n",
       " \tuser_id\tint\n",
       " \tcutoff\tint\n",
       " \tprecision\tfloat\n",
       " \trecall\tfloat\n",
       " \tcount\tint\n",
       " \n",
       " Rows: 4715\n",
       " \n",
       " Data:\n",
       " +---------+--------+----------------+--------+-------+\n",
       " | user_id | cutoff |   precision    | recall | count |\n",
       " +---------+--------+----------------+--------+-------+\n",
       " |    1    |   1    |      0.0       |  0.0   |   10  |\n",
       " |    1    |   2    |      0.0       |  0.0   |   10  |\n",
       " |    1    |   3    |      0.0       |  0.0   |   10  |\n",
       " |    1    |   4    |      0.0       |  0.0   |   10  |\n",
       " |    1    |   5    |      0.0       |  0.0   |   10  |\n",
       " |    2    |   1    |      0.0       |  0.0   |   10  |\n",
       " |    2    |   2    |      0.5       |  0.1   |   10  |\n",
       " |    2    |   3    | 0.333333333333 |  0.1   |   10  |\n",
       " |    2    |   4    |      0.25      |  0.1   |   10  |\n",
       " |    2    |   5    |      0.2       |  0.1   |   10  |\n",
       " +---------+--------+----------------+--------+-------+\n",
       " [4715 rows x 5 columns]\n",
       " Note: Only the head of the SFrame is printed.\n",
       " You can use print_rows(num_rows=m, num_columns=n) to print more rows and columns.,\n",
       " 'precision_recall_overall': Columns:\n",
       " \tcutoff\tint\n",
       " \tprecision\tfloat\n",
       " \trecall\tfloat\n",
       " \n",
       " Rows: 5\n",
       " \n",
       " Data:\n",
       " +--------+-----------------+------------------+\n",
       " | cutoff |    precision    |      recall      |\n",
       " +--------+-----------------+------------------+\n",
       " |   1    | 0.0805938494168 | 0.00805938494168 |\n",
       " |   2    | 0.0636267232238 | 0.0127253446448  |\n",
       " |   3    | 0.0579710144928 | 0.0173913043478  |\n",
       " |   4    |  0.054347826087 | 0.0217391304348  |\n",
       " |   5    | 0.0530222693531 | 0.0265111346766  |\n",
       " +--------+-----------------+------------------+\n",
       " [5 rows x 3 columns]}"
      ]
     },
     "execution_count": 29,
     "metadata": {},
     "output_type": "execute_result"
    }
   ],
   "source": [
    "fact_model.evaluate_precision_recall(test_data,cutoffs=[1, 2, 3, 4, 5,])"
   ]
  },
  {
   "cell_type": "code",
   "execution_count": 30,
   "metadata": {},
   "outputs": [
    {
     "name": "stdout",
     "output_type": "stream",
     "text": [
      "PROGRESS: Evaluate model M0\n",
      "\n",
      "Precision and recall summary statistics by cutoff\n",
      "+--------+----------------+-----------------+\n",
      "| cutoff | mean_precision |   mean_recall   |\n",
      "+--------+----------------+-----------------+\n",
      "|   1    | 0.397667020148 | 0.0397667020148 |\n",
      "|   2    | 0.339872746554 | 0.0679745493107 |\n",
      "|   3    | 0.297985153765 | 0.0893955461294 |\n",
      "|   4    | 0.270413573701 |  0.10816542948  |\n",
      "|   5    | 0.248144220573 |  0.124072110286 |\n",
      "|   6    | 0.229939908095 |  0.137963944857 |\n",
      "|   7    | 0.212695046205 |  0.148886532344 |\n",
      "|   8    | 0.202677624602 |  0.162142099682 |\n",
      "|   9    | 0.191469305997 |  0.172322375398 |\n",
      "|   10   | 0.183563096501 |  0.183563096501 |\n",
      "+--------+----------------+-----------------+\n",
      "[10 rows x 3 columns]\n",
      "\n",
      "PROGRESS: Evaluate model M1\n",
      "\n",
      "Precision and recall summary statistics by cutoff\n",
      "+--------+-----------------+------------------+\n",
      "| cutoff |  mean_precision |   mean_recall    |\n",
      "+--------+-----------------+------------------+\n",
      "|   1    | 0.0805938494168 | 0.00805938494168 |\n",
      "|   2    | 0.0636267232238 | 0.0127253446448  |\n",
      "|   3    | 0.0579710144928 | 0.0173913043478  |\n",
      "|   4    |  0.054347826087 | 0.0217391304348  |\n",
      "|   5    | 0.0530222693531 | 0.0265111346766  |\n",
      "|   6    | 0.0501944149876 | 0.0301166489926  |\n",
      "|   7    | 0.0474170580215 | 0.0331919406151  |\n",
      "|   8    |  0.046394485684 | 0.0371155885472  |\n",
      "|   9    | 0.0450100153175 | 0.0405090137858  |\n",
      "|   10   | 0.0428419936373 | 0.0428419936373  |\n",
      "+--------+-----------------+------------------+\n",
      "[10 rows x 3 columns]\n",
      "\n",
      "Model compare metric: precision_recall\n",
      "Canvas is updated and available in a tab in the default browser.\n"
     ]
    }
   ],
   "source": [
    "## let's compare both the mmodels\n",
    "model_performance = graphlab.compare(test_data, [item_sim_model,fact_model])\n",
    "graphlab.show_comparison(model_performance,[item_sim_model,fact_model])"
   ]
  },
  {
   "cell_type": "code",
   "execution_count": null,
   "metadata": {
    "collapsed": true
   },
   "outputs": [],
   "source": []
  },
  {
   "cell_type": "code",
   "execution_count": null,
   "metadata": {
    "collapsed": true
   },
   "outputs": [],
   "source": []
  }
 ],
 "metadata": {
  "kernelspec": {
   "display_name": "Python 2",
   "language": "python",
   "name": "python2"
  },
  "language_info": {
   "codemirror_mode": {
    "name": "ipython",
    "version": 2
   },
   "file_extension": ".py",
   "mimetype": "text/x-python",
   "name": "python",
   "nbconvert_exporter": "python",
   "pygments_lexer": "ipython2",
   "version": "2.7.12"
  }
 },
 "nbformat": 4,
 "nbformat_minor": 2
}
