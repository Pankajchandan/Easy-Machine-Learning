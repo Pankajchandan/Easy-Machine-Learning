{
 "cells": [
  {
   "cell_type": "code",
   "execution_count": 35,
   "metadata": {
    "collapsed": true
   },
   "outputs": [],
   "source": [
    "import os\n",
    "import sys"
   ]
  },
  {
   "cell_type": "code",
   "execution_count": 37,
   "metadata": {},
   "outputs": [
    {
     "name": "stdout",
     "output_type": "stream",
     "text": [
      "Done\n",
      "empty labels:  1\n",
      "bad labels:  1\n",
      "good labels:  1\n"
     ]
    }
   ],
   "source": [
    "empty_label=0\n",
    "bad_label=0\n",
    "good_label=0\n",
    "file_out=open('res.txt', 'w')\n",
    "directory=\"/home/pankaj/dataset\"\n",
    "for filename in os.listdir(directory):\n",
    "    if filename.endswith(\".txt\"):\n",
    "        s=open(os.path.join(directory, filename)).read()\n",
    "        if not s:\n",
    "            empty_label=empty_label+1\n",
    "        else:\n",
    "            if any(c.isalpha() for c in s) is False:\n",
    "                bad_label=bad_label+1\n",
    "            else:\n",
    "                file_out.write(\"https://github.com/shadySource/DATA/raw/master/images/\"+filename+\"\\n\"+s+\"\\n\"+\"\\n\")\n",
    "                good_label=good_label+1\n",
    "file_out.close()\n",
    "print(\"Done\")\n",
    "print(\"empty labels: \",empty_label )\n",
    "print(\"bad labels: \",bad_label )\n",
    "print(\"good labels: \",good_label)"
   ]
  },
  {
   "cell_type": "code",
   "execution_count": null,
   "metadata": {
    "collapsed": true
   },
   "outputs": [],
   "source": []
  }
 ],
 "metadata": {
  "kernelspec": {
   "display_name": "Python 3",
   "language": "python",
   "name": "python3"
  },
  "language_info": {
   "codemirror_mode": {
    "name": "ipython",
    "version": 3
   },
   "file_extension": ".py",
   "mimetype": "text/x-python",
   "name": "python",
   "nbconvert_exporter": "python",
   "pygments_lexer": "ipython3",
   "version": "3.5.2"
  }
 },
 "nbformat": 4,
 "nbformat_minor": 2
}
